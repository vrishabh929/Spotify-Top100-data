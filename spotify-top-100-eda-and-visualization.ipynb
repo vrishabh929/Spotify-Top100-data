{
 "cells": [
  {
   "cell_type": "code",
   "execution_count": 1,
   "id": "desperate-double",
   "metadata": {
    "_cell_guid": "b1076dfc-b9ad-4769-8c92-a6c4dae69d19",
    "_uuid": "8f2839f25d086af736a60e9eeb907d3b93b6e0e5",
    "execution": {
     "iopub.execute_input": "2021-06-13T13:22:08.839999Z",
     "iopub.status.busy": "2021-06-13T13:22:08.838174Z",
     "iopub.status.idle": "2021-06-13T13:22:08.863159Z",
     "shell.execute_reply": "2021-06-13T13:22:08.862280Z",
     "shell.execute_reply.started": "2021-06-13T10:47:38.346347Z"
    },
    "papermill": {
     "duration": 0.076499,
     "end_time": "2021-06-13T13:22:08.863353",
     "exception": false,
     "start_time": "2021-06-13T13:22:08.786854",
     "status": "completed"
    },
    "tags": []
   },
   "outputs": [
    {
     "name": "stdout",
     "output_type": "stream",
     "text": [
      "/kaggle/input/spotify-top-100/top2018.csv\n"
     ]
    }
   ],
   "source": [
    "# This Python 3 environment comes with many helpful analytics libraries installed\n",
    "# It is defined by the kaggle/python Docker image: https://github.com/kaggle/docker-python\n",
    "# For example, here's several helpful packages to load\n",
    "\n",
    "import numpy as np # linear algebra\n",
    "import pandas as pd # data processing, CSV file I/O (e.g. pd.read_csv)\n",
    "\n",
    "# Input data files are available in the read-only \"../input/\" directory\n",
    "# For example, running this (by clicking run or pressing Shift+Enter) will list all files under the input directory\n",
    "\n",
    "import os\n",
    "for dirname, _, filenames in os.walk('/kaggle/input'):\n",
    "    for filename in filenames:\n",
    "        print(os.path.join(dirname, filename))\n",
    "\n",
    "# You can write up to 20GB to the current directory (/kaggle/working/) that gets preserved as output when you create a version using \"Save & Run All\" \n",
    "# You can also write temporary files to /kaggle/temp/, but they won't be saved outside of the current session"
   ]
  },
  {
   "cell_type": "markdown",
   "id": "covered-company",
   "metadata": {
    "papermill": {
     "duration": 0.045296,
     "end_time": "2021-06-13T13:22:08.955291",
     "exception": false,
     "start_time": "2021-06-13T13:22:08.909995",
     "status": "completed"
    },
    "tags": []
   },
   "source": [
    "## Importing the data"
   ]
  },
  {
   "cell_type": "code",
   "execution_count": 2,
   "id": "synthetic-orbit",
   "metadata": {
    "execution": {
     "iopub.execute_input": "2021-06-13T13:22:09.052231Z",
     "iopub.status.busy": "2021-06-13T13:22:09.051467Z",
     "iopub.status.idle": "2021-06-13T13:22:09.105883Z",
     "shell.execute_reply": "2021-06-13T13:22:09.104886Z",
     "shell.execute_reply.started": "2021-06-13T10:51:18.976080Z"
    },
    "papermill": {
     "duration": 0.104127,
     "end_time": "2021-06-13T13:22:09.106033",
     "exception": false,
     "start_time": "2021-06-13T13:22:09.001906",
     "status": "completed"
    },
    "tags": []
   },
   "outputs": [
    {
     "data": {
      "text/html": [
       "<div>\n",
       "<style scoped>\n",
       "    .dataframe tbody tr th:only-of-type {\n",
       "        vertical-align: middle;\n",
       "    }\n",
       "\n",
       "    .dataframe tbody tr th {\n",
       "        vertical-align: top;\n",
       "    }\n",
       "\n",
       "    .dataframe thead th {\n",
       "        text-align: right;\n",
       "    }\n",
       "</style>\n",
       "<table border=\"1\" class=\"dataframe\">\n",
       "  <thead>\n",
       "    <tr style=\"text-align: right;\">\n",
       "      <th></th>\n",
       "      <th>id</th>\n",
       "      <th>name</th>\n",
       "      <th>artists</th>\n",
       "      <th>danceability</th>\n",
       "      <th>energy</th>\n",
       "      <th>key</th>\n",
       "      <th>loudness</th>\n",
       "      <th>mode</th>\n",
       "      <th>speechiness</th>\n",
       "      <th>acousticness</th>\n",
       "      <th>instrumentalness</th>\n",
       "      <th>liveness</th>\n",
       "      <th>valence</th>\n",
       "      <th>tempo</th>\n",
       "      <th>duration_ms</th>\n",
       "      <th>time_signature</th>\n",
       "    </tr>\n",
       "  </thead>\n",
       "  <tbody>\n",
       "    <tr>\n",
       "      <th>0</th>\n",
       "      <td>6DCZcSspjsKoFjzjrWoCd</td>\n",
       "      <td>God's Plan</td>\n",
       "      <td>Drake</td>\n",
       "      <td>0.754</td>\n",
       "      <td>0.449</td>\n",
       "      <td>7.0</td>\n",
       "      <td>-9.211</td>\n",
       "      <td>1.0</td>\n",
       "      <td>0.1090</td>\n",
       "      <td>0.0332</td>\n",
       "      <td>0.000083</td>\n",
       "      <td>0.552</td>\n",
       "      <td>0.357</td>\n",
       "      <td>77.169</td>\n",
       "      <td>198973.0</td>\n",
       "      <td>4.0</td>\n",
       "    </tr>\n",
       "    <tr>\n",
       "      <th>1</th>\n",
       "      <td>3ee8Jmje8o58CHK66QrVC</td>\n",
       "      <td>SAD!</td>\n",
       "      <td>XXXTENTACION</td>\n",
       "      <td>0.740</td>\n",
       "      <td>0.613</td>\n",
       "      <td>8.0</td>\n",
       "      <td>-4.880</td>\n",
       "      <td>1.0</td>\n",
       "      <td>0.1450</td>\n",
       "      <td>0.2580</td>\n",
       "      <td>0.003720</td>\n",
       "      <td>0.123</td>\n",
       "      <td>0.473</td>\n",
       "      <td>75.023</td>\n",
       "      <td>166606.0</td>\n",
       "      <td>4.0</td>\n",
       "    </tr>\n",
       "    <tr>\n",
       "      <th>2</th>\n",
       "      <td>0e7ipj03S05BNilyu5bRz</td>\n",
       "      <td>rockstar (feat. 21 Savage)</td>\n",
       "      <td>Post Malone</td>\n",
       "      <td>0.587</td>\n",
       "      <td>0.535</td>\n",
       "      <td>5.0</td>\n",
       "      <td>-6.090</td>\n",
       "      <td>0.0</td>\n",
       "      <td>0.0898</td>\n",
       "      <td>0.1170</td>\n",
       "      <td>0.000066</td>\n",
       "      <td>0.131</td>\n",
       "      <td>0.140</td>\n",
       "      <td>159.847</td>\n",
       "      <td>218147.0</td>\n",
       "      <td>4.0</td>\n",
       "    </tr>\n",
       "    <tr>\n",
       "      <th>3</th>\n",
       "      <td>3swc6WTsr7rl9DqQKQA55</td>\n",
       "      <td>Psycho (feat. Ty Dolla $ign)</td>\n",
       "      <td>Post Malone</td>\n",
       "      <td>0.739</td>\n",
       "      <td>0.559</td>\n",
       "      <td>8.0</td>\n",
       "      <td>-8.011</td>\n",
       "      <td>1.0</td>\n",
       "      <td>0.1170</td>\n",
       "      <td>0.5800</td>\n",
       "      <td>0.000000</td>\n",
       "      <td>0.112</td>\n",
       "      <td>0.439</td>\n",
       "      <td>140.124</td>\n",
       "      <td>221440.0</td>\n",
       "      <td>4.0</td>\n",
       "    </tr>\n",
       "    <tr>\n",
       "      <th>4</th>\n",
       "      <td>2G7V7zsVDxg1yRsu7Ew9R</td>\n",
       "      <td>In My Feelings</td>\n",
       "      <td>Drake</td>\n",
       "      <td>0.835</td>\n",
       "      <td>0.626</td>\n",
       "      <td>1.0</td>\n",
       "      <td>-5.833</td>\n",
       "      <td>1.0</td>\n",
       "      <td>0.1250</td>\n",
       "      <td>0.0589</td>\n",
       "      <td>0.000060</td>\n",
       "      <td>0.396</td>\n",
       "      <td>0.350</td>\n",
       "      <td>91.030</td>\n",
       "      <td>217925.0</td>\n",
       "      <td>4.0</td>\n",
       "    </tr>\n",
       "  </tbody>\n",
       "</table>\n",
       "</div>"
      ],
      "text/plain": [
       "                      id                          name       artists  \\\n",
       "0  6DCZcSspjsKoFjzjrWoCd                    God's Plan         Drake   \n",
       "1  3ee8Jmje8o58CHK66QrVC                          SAD!  XXXTENTACION   \n",
       "2  0e7ipj03S05BNilyu5bRz    rockstar (feat. 21 Savage)   Post Malone   \n",
       "3  3swc6WTsr7rl9DqQKQA55  Psycho (feat. Ty Dolla $ign)   Post Malone   \n",
       "4  2G7V7zsVDxg1yRsu7Ew9R                In My Feelings         Drake   \n",
       "\n",
       "   danceability  energy  key  loudness  mode  speechiness  acousticness  \\\n",
       "0         0.754   0.449  7.0    -9.211   1.0       0.1090        0.0332   \n",
       "1         0.740   0.613  8.0    -4.880   1.0       0.1450        0.2580   \n",
       "2         0.587   0.535  5.0    -6.090   0.0       0.0898        0.1170   \n",
       "3         0.739   0.559  8.0    -8.011   1.0       0.1170        0.5800   \n",
       "4         0.835   0.626  1.0    -5.833   1.0       0.1250        0.0589   \n",
       "\n",
       "   instrumentalness  liveness  valence    tempo  duration_ms  time_signature  \n",
       "0          0.000083     0.552    0.357   77.169     198973.0             4.0  \n",
       "1          0.003720     0.123    0.473   75.023     166606.0             4.0  \n",
       "2          0.000066     0.131    0.140  159.847     218147.0             4.0  \n",
       "3          0.000000     0.112    0.439  140.124     221440.0             4.0  \n",
       "4          0.000060     0.396    0.350   91.030     217925.0             4.0  "
      ]
     },
     "execution_count": 2,
     "metadata": {},
     "output_type": "execute_result"
    }
   ],
   "source": [
    "pd.get_option(\"display.max_columns\")\n",
    "df = pd.read_csv(\"/kaggle/input/spotify-top-100/top2018.csv\")\n",
    "df.head()"
   ]
  },
  {
   "cell_type": "markdown",
   "id": "fitting-christian",
   "metadata": {
    "papermill": {
     "duration": 0.045381,
     "end_time": "2021-06-13T13:22:09.196899",
     "exception": false,
     "start_time": "2021-06-13T13:22:09.151518",
     "status": "completed"
    },
    "tags": []
   },
   "source": [
    "## Checking the Datatypes"
   ]
  },
  {
   "cell_type": "code",
   "execution_count": 3,
   "id": "close-hammer",
   "metadata": {
    "execution": {
     "iopub.execute_input": "2021-06-13T13:22:09.295968Z",
     "iopub.status.busy": "2021-06-13T13:22:09.295270Z",
     "iopub.status.idle": "2021-06-13T13:22:09.297846Z",
     "shell.execute_reply": "2021-06-13T13:22:09.298403Z",
     "shell.execute_reply.started": "2021-06-13T10:54:05.516896Z"
    },
    "papermill": {
     "duration": 0.055606,
     "end_time": "2021-06-13T13:22:09.298589",
     "exception": false,
     "start_time": "2021-06-13T13:22:09.242983",
     "status": "completed"
    },
    "tags": []
   },
   "outputs": [
    {
     "data": {
      "text/plain": [
       "id                   object\n",
       "name                 object\n",
       "artists              object\n",
       "danceability        float64\n",
       "energy              float64\n",
       "key                 float64\n",
       "loudness            float64\n",
       "mode                float64\n",
       "speechiness         float64\n",
       "acousticness        float64\n",
       "instrumentalness    float64\n",
       "liveness            float64\n",
       "valence             float64\n",
       "tempo               float64\n",
       "duration_ms         float64\n",
       "time_signature      float64\n",
       "dtype: object"
      ]
     },
     "execution_count": 3,
     "metadata": {},
     "output_type": "execute_result"
    }
   ],
   "source": [
    "df.dtypes"
   ]
  },
  {
   "cell_type": "code",
   "execution_count": 4,
   "id": "requested-gravity",
   "metadata": {
    "execution": {
     "iopub.execute_input": "2021-06-13T13:22:09.401881Z",
     "iopub.status.busy": "2021-06-13T13:22:09.401123Z",
     "iopub.status.idle": "2021-06-13T13:22:09.490032Z",
     "shell.execute_reply": "2021-06-13T13:22:09.489444Z",
     "shell.execute_reply.started": "2021-06-13T10:55:25.107103Z"
    },
    "papermill": {
     "duration": 0.145883,
     "end_time": "2021-06-13T13:22:09.490188",
     "exception": false,
     "start_time": "2021-06-13T13:22:09.344305",
     "status": "completed"
    },
    "tags": []
   },
   "outputs": [
    {
     "data": {
      "text/html": [
       "<div>\n",
       "<style scoped>\n",
       "    .dataframe tbody tr th:only-of-type {\n",
       "        vertical-align: middle;\n",
       "    }\n",
       "\n",
       "    .dataframe tbody tr th {\n",
       "        vertical-align: top;\n",
       "    }\n",
       "\n",
       "    .dataframe thead th {\n",
       "        text-align: right;\n",
       "    }\n",
       "</style>\n",
       "<table border=\"1\" class=\"dataframe\">\n",
       "  <thead>\n",
       "    <tr style=\"text-align: right;\">\n",
       "      <th></th>\n",
       "      <th>id</th>\n",
       "      <th>name</th>\n",
       "      <th>artists</th>\n",
       "      <th>danceability</th>\n",
       "      <th>energy</th>\n",
       "      <th>key</th>\n",
       "      <th>loudness</th>\n",
       "      <th>mode</th>\n",
       "      <th>speechiness</th>\n",
       "      <th>acousticness</th>\n",
       "      <th>instrumentalness</th>\n",
       "      <th>liveness</th>\n",
       "      <th>valence</th>\n",
       "      <th>tempo</th>\n",
       "      <th>duration_ms</th>\n",
       "      <th>time_signature</th>\n",
       "    </tr>\n",
       "  </thead>\n",
       "  <tbody>\n",
       "    <tr>\n",
       "      <th>count</th>\n",
       "      <td>100</td>\n",
       "      <td>100</td>\n",
       "      <td>100</td>\n",
       "      <td>100.00000</td>\n",
       "      <td>100.000000</td>\n",
       "      <td>100.000000</td>\n",
       "      <td>100.000000</td>\n",
       "      <td>100.000000</td>\n",
       "      <td>100.000000</td>\n",
       "      <td>100.000000</td>\n",
       "      <td>100.000000</td>\n",
       "      <td>100.000000</td>\n",
       "      <td>100.000000</td>\n",
       "      <td>100.000000</td>\n",
       "      <td>100.000000</td>\n",
       "      <td>100.00</td>\n",
       "    </tr>\n",
       "    <tr>\n",
       "      <th>unique</th>\n",
       "      <td>100</td>\n",
       "      <td>100</td>\n",
       "      <td>70</td>\n",
       "      <td>NaN</td>\n",
       "      <td>NaN</td>\n",
       "      <td>NaN</td>\n",
       "      <td>NaN</td>\n",
       "      <td>NaN</td>\n",
       "      <td>NaN</td>\n",
       "      <td>NaN</td>\n",
       "      <td>NaN</td>\n",
       "      <td>NaN</td>\n",
       "      <td>NaN</td>\n",
       "      <td>NaN</td>\n",
       "      <td>NaN</td>\n",
       "      <td>NaN</td>\n",
       "    </tr>\n",
       "    <tr>\n",
       "      <th>top</th>\n",
       "      <td>09IStsImFySgyp0pIQdqA</td>\n",
       "      <td>Freaky Friday (feat. Chris Brown)</td>\n",
       "      <td>Post Malone</td>\n",
       "      <td>NaN</td>\n",
       "      <td>NaN</td>\n",
       "      <td>NaN</td>\n",
       "      <td>NaN</td>\n",
       "      <td>NaN</td>\n",
       "      <td>NaN</td>\n",
       "      <td>NaN</td>\n",
       "      <td>NaN</td>\n",
       "      <td>NaN</td>\n",
       "      <td>NaN</td>\n",
       "      <td>NaN</td>\n",
       "      <td>NaN</td>\n",
       "      <td>NaN</td>\n",
       "    </tr>\n",
       "    <tr>\n",
       "      <th>freq</th>\n",
       "      <td>1</td>\n",
       "      <td>1</td>\n",
       "      <td>6</td>\n",
       "      <td>NaN</td>\n",
       "      <td>NaN</td>\n",
       "      <td>NaN</td>\n",
       "      <td>NaN</td>\n",
       "      <td>NaN</td>\n",
       "      <td>NaN</td>\n",
       "      <td>NaN</td>\n",
       "      <td>NaN</td>\n",
       "      <td>NaN</td>\n",
       "      <td>NaN</td>\n",
       "      <td>NaN</td>\n",
       "      <td>NaN</td>\n",
       "      <td>NaN</td>\n",
       "    </tr>\n",
       "    <tr>\n",
       "      <th>mean</th>\n",
       "      <td>NaN</td>\n",
       "      <td>NaN</td>\n",
       "      <td>NaN</td>\n",
       "      <td>0.71646</td>\n",
       "      <td>0.659060</td>\n",
       "      <td>5.330000</td>\n",
       "      <td>-5.677640</td>\n",
       "      <td>0.590000</td>\n",
       "      <td>0.115569</td>\n",
       "      <td>0.195701</td>\n",
       "      <td>0.001584</td>\n",
       "      <td>0.158302</td>\n",
       "      <td>0.484443</td>\n",
       "      <td>119.904180</td>\n",
       "      <td>205206.780000</td>\n",
       "      <td>3.98</td>\n",
       "    </tr>\n",
       "    <tr>\n",
       "      <th>std</th>\n",
       "      <td>NaN</td>\n",
       "      <td>NaN</td>\n",
       "      <td>NaN</td>\n",
       "      <td>0.13107</td>\n",
       "      <td>0.145067</td>\n",
       "      <td>3.676447</td>\n",
       "      <td>1.777577</td>\n",
       "      <td>0.494311</td>\n",
       "      <td>0.104527</td>\n",
       "      <td>0.220946</td>\n",
       "      <td>0.013449</td>\n",
       "      <td>0.111662</td>\n",
       "      <td>0.206145</td>\n",
       "      <td>28.795984</td>\n",
       "      <td>40007.893404</td>\n",
       "      <td>0.20</td>\n",
       "    </tr>\n",
       "    <tr>\n",
       "      <th>min</th>\n",
       "      <td>NaN</td>\n",
       "      <td>NaN</td>\n",
       "      <td>NaN</td>\n",
       "      <td>0.25800</td>\n",
       "      <td>0.296000</td>\n",
       "      <td>0.000000</td>\n",
       "      <td>-10.109000</td>\n",
       "      <td>0.000000</td>\n",
       "      <td>0.023200</td>\n",
       "      <td>0.000282</td>\n",
       "      <td>0.000000</td>\n",
       "      <td>0.021500</td>\n",
       "      <td>0.079600</td>\n",
       "      <td>64.934000</td>\n",
       "      <td>95467.000000</td>\n",
       "      <td>3.00</td>\n",
       "    </tr>\n",
       "    <tr>\n",
       "      <th>25%</th>\n",
       "      <td>NaN</td>\n",
       "      <td>NaN</td>\n",
       "      <td>NaN</td>\n",
       "      <td>0.63550</td>\n",
       "      <td>0.562000</td>\n",
       "      <td>1.750000</td>\n",
       "      <td>-6.650500</td>\n",
       "      <td>0.000000</td>\n",
       "      <td>0.045350</td>\n",
       "      <td>0.040225</td>\n",
       "      <td>0.000000</td>\n",
       "      <td>0.094675</td>\n",
       "      <td>0.341000</td>\n",
       "      <td>95.730750</td>\n",
       "      <td>184680.000000</td>\n",
       "      <td>4.00</td>\n",
       "    </tr>\n",
       "    <tr>\n",
       "      <th>50%</th>\n",
       "      <td>NaN</td>\n",
       "      <td>NaN</td>\n",
       "      <td>NaN</td>\n",
       "      <td>0.73300</td>\n",
       "      <td>0.678000</td>\n",
       "      <td>5.000000</td>\n",
       "      <td>-5.566500</td>\n",
       "      <td>1.000000</td>\n",
       "      <td>0.074950</td>\n",
       "      <td>0.109000</td>\n",
       "      <td>0.000000</td>\n",
       "      <td>0.118500</td>\n",
       "      <td>0.470500</td>\n",
       "      <td>120.116000</td>\n",
       "      <td>205047.500000</td>\n",
       "      <td>4.00</td>\n",
       "    </tr>\n",
       "    <tr>\n",
       "      <th>75%</th>\n",
       "      <td>NaN</td>\n",
       "      <td>NaN</td>\n",
       "      <td>NaN</td>\n",
       "      <td>0.79825</td>\n",
       "      <td>0.772250</td>\n",
       "      <td>8.250000</td>\n",
       "      <td>-4.363750</td>\n",
       "      <td>1.000000</td>\n",
       "      <td>0.137000</td>\n",
       "      <td>0.247750</td>\n",
       "      <td>0.000031</td>\n",
       "      <td>0.170750</td>\n",
       "      <td>0.641500</td>\n",
       "      <td>140.022750</td>\n",
       "      <td>221493.250000</td>\n",
       "      <td>4.00</td>\n",
       "    </tr>\n",
       "    <tr>\n",
       "      <th>max</th>\n",
       "      <td>NaN</td>\n",
       "      <td>NaN</td>\n",
       "      <td>NaN</td>\n",
       "      <td>0.96400</td>\n",
       "      <td>0.909000</td>\n",
       "      <td>11.000000</td>\n",
       "      <td>-2.384000</td>\n",
       "      <td>1.000000</td>\n",
       "      <td>0.530000</td>\n",
       "      <td>0.934000</td>\n",
       "      <td>0.134000</td>\n",
       "      <td>0.636000</td>\n",
       "      <td>0.931000</td>\n",
       "      <td>198.075000</td>\n",
       "      <td>417920.000000</td>\n",
       "      <td>5.00</td>\n",
       "    </tr>\n",
       "  </tbody>\n",
       "</table>\n",
       "</div>"
      ],
      "text/plain": [
       "                           id                               name      artists  \\\n",
       "count                     100                                100          100   \n",
       "unique                    100                                100           70   \n",
       "top     09IStsImFySgyp0pIQdqA  Freaky Friday (feat. Chris Brown)  Post Malone   \n",
       "freq                        1                                  1            6   \n",
       "mean                      NaN                                NaN          NaN   \n",
       "std                       NaN                                NaN          NaN   \n",
       "min                       NaN                                NaN          NaN   \n",
       "25%                       NaN                                NaN          NaN   \n",
       "50%                       NaN                                NaN          NaN   \n",
       "75%                       NaN                                NaN          NaN   \n",
       "max                       NaN                                NaN          NaN   \n",
       "\n",
       "        danceability      energy         key    loudness        mode  \\\n",
       "count      100.00000  100.000000  100.000000  100.000000  100.000000   \n",
       "unique           NaN         NaN         NaN         NaN         NaN   \n",
       "top              NaN         NaN         NaN         NaN         NaN   \n",
       "freq             NaN         NaN         NaN         NaN         NaN   \n",
       "mean         0.71646    0.659060    5.330000   -5.677640    0.590000   \n",
       "std          0.13107    0.145067    3.676447    1.777577    0.494311   \n",
       "min          0.25800    0.296000    0.000000  -10.109000    0.000000   \n",
       "25%          0.63550    0.562000    1.750000   -6.650500    0.000000   \n",
       "50%          0.73300    0.678000    5.000000   -5.566500    1.000000   \n",
       "75%          0.79825    0.772250    8.250000   -4.363750    1.000000   \n",
       "max          0.96400    0.909000   11.000000   -2.384000    1.000000   \n",
       "\n",
       "        speechiness  acousticness  instrumentalness    liveness     valence  \\\n",
       "count    100.000000    100.000000        100.000000  100.000000  100.000000   \n",
       "unique          NaN           NaN               NaN         NaN         NaN   \n",
       "top             NaN           NaN               NaN         NaN         NaN   \n",
       "freq            NaN           NaN               NaN         NaN         NaN   \n",
       "mean       0.115569      0.195701          0.001584    0.158302    0.484443   \n",
       "std        0.104527      0.220946          0.013449    0.111662    0.206145   \n",
       "min        0.023200      0.000282          0.000000    0.021500    0.079600   \n",
       "25%        0.045350      0.040225          0.000000    0.094675    0.341000   \n",
       "50%        0.074950      0.109000          0.000000    0.118500    0.470500   \n",
       "75%        0.137000      0.247750          0.000031    0.170750    0.641500   \n",
       "max        0.530000      0.934000          0.134000    0.636000    0.931000   \n",
       "\n",
       "             tempo    duration_ms  time_signature  \n",
       "count   100.000000     100.000000          100.00  \n",
       "unique         NaN            NaN             NaN  \n",
       "top            NaN            NaN             NaN  \n",
       "freq           NaN            NaN             NaN  \n",
       "mean    119.904180  205206.780000            3.98  \n",
       "std      28.795984   40007.893404            0.20  \n",
       "min      64.934000   95467.000000            3.00  \n",
       "25%      95.730750  184680.000000            4.00  \n",
       "50%     120.116000  205047.500000            4.00  \n",
       "75%     140.022750  221493.250000            4.00  \n",
       "max     198.075000  417920.000000            5.00  "
      ]
     },
     "execution_count": 4,
     "metadata": {},
     "output_type": "execute_result"
    }
   ],
   "source": [
    "df.describe(include=\"all\")"
   ]
  },
  {
   "cell_type": "code",
   "execution_count": 5,
   "id": "stuck-payment",
   "metadata": {
    "execution": {
     "iopub.execute_input": "2021-06-13T13:22:09.588591Z",
     "iopub.status.busy": "2021-06-13T13:22:09.587915Z",
     "iopub.status.idle": "2021-06-13T13:22:09.591408Z",
     "shell.execute_reply": "2021-06-13T13:22:09.590925Z",
     "shell.execute_reply.started": "2021-06-13T10:55:48.136250Z"
    },
    "papermill": {
     "duration": 0.054824,
     "end_time": "2021-06-13T13:22:09.591546",
     "exception": false,
     "start_time": "2021-06-13T13:22:09.536722",
     "status": "completed"
    },
    "tags": []
   },
   "outputs": [
    {
     "data": {
      "text/plain": [
       "Index(['id', 'name', 'artists', 'danceability', 'energy', 'key', 'loudness',\n",
       "       'mode', 'speechiness', 'acousticness', 'instrumentalness', 'liveness',\n",
       "       'valence', 'tempo', 'duration_ms', 'time_signature'],\n",
       "      dtype='object')"
      ]
     },
     "execution_count": 5,
     "metadata": {},
     "output_type": "execute_result"
    }
   ],
   "source": [
    "df.columns"
   ]
  },
  {
   "cell_type": "markdown",
   "id": "russian-memory",
   "metadata": {
    "papermill": {
     "duration": 0.046883,
     "end_time": "2021-06-13T13:22:09.685677",
     "exception": false,
     "start_time": "2021-06-13T13:22:09.638794",
     "status": "completed"
    },
    "tags": []
   },
   "source": [
    "## Finding which Artist had most TOP 100 songs"
   ]
  },
  {
   "cell_type": "code",
   "execution_count": 6,
   "id": "combined-adelaide",
   "metadata": {
    "execution": {
     "iopub.execute_input": "2021-06-13T13:22:09.786225Z",
     "iopub.status.busy": "2021-06-13T13:22:09.785546Z",
     "iopub.status.idle": "2021-06-13T13:22:09.791629Z",
     "shell.execute_reply": "2021-06-13T13:22:09.792082Z",
     "shell.execute_reply.started": "2021-06-13T11:28:32.136495Z"
    },
    "papermill": {
     "duration": 0.059724,
     "end_time": "2021-06-13T13:22:09.792257",
     "exception": false,
     "start_time": "2021-06-13T13:22:09.732533",
     "status": "completed"
    },
    "tags": []
   },
   "outputs": [
    {
     "data": {
      "text/plain": [
       "artists\n",
       "Post Malone     6\n",
       "XXXTENTACION    6\n",
       "Drake           4\n",
       "Ed Sheeran      3\n",
       "Marshmello      3\n",
       "Name: artists, dtype: int64"
      ]
     },
     "execution_count": 6,
     "metadata": {},
     "output_type": "execute_result"
    }
   ],
   "source": [
    "art = df.groupby(\"artists\")[\"artists\"].count().sort_values(ascending=False)\n",
    "art.head()"
   ]
  },
  {
   "cell_type": "markdown",
   "id": "contemporary-klein",
   "metadata": {
    "papermill": {
     "duration": 0.046914,
     "end_time": "2021-06-13T13:22:09.886348",
     "exception": false,
     "start_time": "2021-06-13T13:22:09.839434",
     "status": "completed"
    },
    "tags": []
   },
   "source": [
    "These are the TOP 5 artist who had most TOP 100 songs. Post Malone and XXXTENTACTION has 6 songs."
   ]
  },
  {
   "cell_type": "code",
   "execution_count": 7,
   "id": "worth-greek",
   "metadata": {
    "execution": {
     "iopub.execute_input": "2021-06-13T13:22:09.991748Z",
     "iopub.status.busy": "2021-06-13T13:22:09.990864Z",
     "iopub.status.idle": "2021-06-13T13:22:09.994846Z",
     "shell.execute_reply": "2021-06-13T13:22:09.995634Z",
     "shell.execute_reply.started": "2021-06-13T11:28:37.416210Z"
    },
    "papermill": {
     "duration": 0.061777,
     "end_time": "2021-06-13T13:22:09.995877",
     "exception": false,
     "start_time": "2021-06-13T13:22:09.934100",
     "status": "completed"
    },
    "tags": []
   },
   "outputs": [],
   "source": [
    "## Converting it to a dataframe\n",
    "art = art.to_frame()"
   ]
  },
  {
   "cell_type": "code",
   "execution_count": 8,
   "id": "faced-manner",
   "metadata": {
    "execution": {
     "iopub.execute_input": "2021-06-13T13:22:10.114398Z",
     "iopub.status.busy": "2021-06-13T13:22:10.113733Z",
     "iopub.status.idle": "2021-06-13T13:22:10.116864Z",
     "shell.execute_reply": "2021-06-13T13:22:10.117369Z",
     "shell.execute_reply.started": "2021-06-13T11:28:38.896156Z"
    },
    "papermill": {
     "duration": 0.065714,
     "end_time": "2021-06-13T13:22:10.117555",
     "exception": false,
     "start_time": "2021-06-13T13:22:10.051841",
     "status": "completed"
    },
    "tags": []
   },
   "outputs": [
    {
     "data": {
      "text/html": [
       "<div>\n",
       "<style scoped>\n",
       "    .dataframe tbody tr th:only-of-type {\n",
       "        vertical-align: middle;\n",
       "    }\n",
       "\n",
       "    .dataframe tbody tr th {\n",
       "        vertical-align: top;\n",
       "    }\n",
       "\n",
       "    .dataframe thead th {\n",
       "        text-align: right;\n",
       "    }\n",
       "</style>\n",
       "<table border=\"1\" class=\"dataframe\">\n",
       "  <thead>\n",
       "    <tr style=\"text-align: right;\">\n",
       "      <th></th>\n",
       "      <th>artists</th>\n",
       "    </tr>\n",
       "    <tr>\n",
       "      <th>artists</th>\n",
       "      <th></th>\n",
       "    </tr>\n",
       "  </thead>\n",
       "  <tbody>\n",
       "    <tr>\n",
       "      <th>Post Malone</th>\n",
       "      <td>6</td>\n",
       "    </tr>\n",
       "    <tr>\n",
       "      <th>XXXTENTACION</th>\n",
       "      <td>6</td>\n",
       "    </tr>\n",
       "    <tr>\n",
       "      <th>Drake</th>\n",
       "      <td>4</td>\n",
       "    </tr>\n",
       "    <tr>\n",
       "      <th>Ed Sheeran</th>\n",
       "      <td>3</td>\n",
       "    </tr>\n",
       "    <tr>\n",
       "      <th>Marshmello</th>\n",
       "      <td>3</td>\n",
       "    </tr>\n",
       "  </tbody>\n",
       "</table>\n",
       "</div>"
      ],
      "text/plain": [
       "              artists\n",
       "artists              \n",
       "Post Malone         6\n",
       "XXXTENTACION        6\n",
       "Drake               4\n",
       "Ed Sheeran          3\n",
       "Marshmello          3"
      ]
     },
     "execution_count": 8,
     "metadata": {},
     "output_type": "execute_result"
    }
   ],
   "source": [
    "art.head()"
   ]
  },
  {
   "cell_type": "code",
   "execution_count": 9,
   "id": "surrounded-helicopter",
   "metadata": {
    "execution": {
     "iopub.execute_input": "2021-06-13T13:22:10.225982Z",
     "iopub.status.busy": "2021-06-13T13:22:10.225026Z",
     "iopub.status.idle": "2021-06-13T13:22:10.229662Z",
     "shell.execute_reply": "2021-06-13T13:22:10.229021Z",
     "shell.execute_reply.started": "2021-06-13T11:28:48.670691Z"
    },
    "papermill": {
     "duration": 0.063386,
     "end_time": "2021-06-13T13:22:10.229806",
     "exception": false,
     "start_time": "2021-06-13T13:22:10.166420",
     "status": "completed"
    },
    "tags": []
   },
   "outputs": [
    {
     "data": {
      "text/html": [
       "<div>\n",
       "<style scoped>\n",
       "    .dataframe tbody tr th:only-of-type {\n",
       "        vertical-align: middle;\n",
       "    }\n",
       "\n",
       "    .dataframe tbody tr th {\n",
       "        vertical-align: top;\n",
       "    }\n",
       "\n",
       "    .dataframe thead th {\n",
       "        text-align: right;\n",
       "    }\n",
       "</style>\n",
       "<table border=\"1\" class=\"dataframe\">\n",
       "  <thead>\n",
       "    <tr style=\"text-align: right;\">\n",
       "      <th></th>\n",
       "      <th>count</th>\n",
       "    </tr>\n",
       "    <tr>\n",
       "      <th>artists</th>\n",
       "      <th></th>\n",
       "    </tr>\n",
       "  </thead>\n",
       "  <tbody>\n",
       "    <tr>\n",
       "      <th>Post Malone</th>\n",
       "      <td>6</td>\n",
       "    </tr>\n",
       "    <tr>\n",
       "      <th>XXXTENTACION</th>\n",
       "      <td>6</td>\n",
       "    </tr>\n",
       "    <tr>\n",
       "      <th>Drake</th>\n",
       "      <td>4</td>\n",
       "    </tr>\n",
       "    <tr>\n",
       "      <th>Ed Sheeran</th>\n",
       "      <td>3</td>\n",
       "    </tr>\n",
       "    <tr>\n",
       "      <th>Marshmello</th>\n",
       "      <td>3</td>\n",
       "    </tr>\n",
       "    <tr>\n",
       "      <th>Dua Lipa</th>\n",
       "      <td>2</td>\n",
       "    </tr>\n",
       "    <tr>\n",
       "      <th>Imagine Dragons</th>\n",
       "      <td>2</td>\n",
       "    </tr>\n",
       "    <tr>\n",
       "      <th>Ozuna</th>\n",
       "      <td>2</td>\n",
       "    </tr>\n",
       "    <tr>\n",
       "      <th>Selena Gomez</th>\n",
       "      <td>2</td>\n",
       "    </tr>\n",
       "    <tr>\n",
       "      <th>Clean Bandit</th>\n",
       "      <td>2</td>\n",
       "    </tr>\n",
       "  </tbody>\n",
       "</table>\n",
       "</div>"
      ],
      "text/plain": [
       "                 count\n",
       "artists               \n",
       "Post Malone          6\n",
       "XXXTENTACION         6\n",
       "Drake                4\n",
       "Ed Sheeran           3\n",
       "Marshmello           3\n",
       "Dua Lipa             2\n",
       "Imagine Dragons      2\n",
       "Ozuna                2\n",
       "Selena Gomez         2\n",
       "Clean Bandit         2"
      ]
     },
     "execution_count": 9,
     "metadata": {},
     "output_type": "execute_result"
    }
   ],
   "source": [
    "artist=art.rename(columns={\"artists\":\"artists\",\"artists\":\"count\"})\n",
    "artist.head(10) # Viewing the top 10 artists"
   ]
  },
  {
   "cell_type": "markdown",
   "id": "fluid-medication",
   "metadata": {
    "papermill": {
     "duration": 0.049262,
     "end_time": "2021-06-13T13:22:10.327697",
     "exception": false,
     "start_time": "2021-06-13T13:22:10.278435",
     "status": "completed"
    },
    "tags": []
   },
   "source": [
    "#### Reseting the index"
   ]
  },
  {
   "cell_type": "code",
   "execution_count": 10,
   "id": "minus-panama",
   "metadata": {
    "execution": {
     "iopub.execute_input": "2021-06-13T13:22:10.434975Z",
     "iopub.status.busy": "2021-06-13T13:22:10.434224Z",
     "iopub.status.idle": "2021-06-13T13:22:10.437319Z",
     "shell.execute_reply": "2021-06-13T13:22:10.436774Z",
     "shell.execute_reply.started": "2021-06-13T11:29:08.541265Z"
    },
    "papermill": {
     "duration": 0.059151,
     "end_time": "2021-06-13T13:22:10.437460",
     "exception": false,
     "start_time": "2021-06-13T13:22:10.378309",
     "status": "completed"
    },
    "tags": []
   },
   "outputs": [],
   "source": [
    "artist = artist.reset_index()"
   ]
  },
  {
   "cell_type": "code",
   "execution_count": 11,
   "id": "amber-missile",
   "metadata": {
    "execution": {
     "iopub.execute_input": "2021-06-13T13:22:10.541040Z",
     "iopub.status.busy": "2021-06-13T13:22:10.540379Z",
     "iopub.status.idle": "2021-06-13T13:22:10.546499Z",
     "shell.execute_reply": "2021-06-13T13:22:10.547084Z",
     "shell.execute_reply.started": "2021-06-13T11:29:41.925875Z"
    },
    "papermill": {
     "duration": 0.061338,
     "end_time": "2021-06-13T13:22:10.547266",
     "exception": false,
     "start_time": "2021-06-13T13:22:10.485928",
     "status": "completed"
    },
    "tags": []
   },
   "outputs": [
    {
     "data": {
      "text/html": [
       "<div>\n",
       "<style scoped>\n",
       "    .dataframe tbody tr th:only-of-type {\n",
       "        vertical-align: middle;\n",
       "    }\n",
       "\n",
       "    .dataframe tbody tr th {\n",
       "        vertical-align: top;\n",
       "    }\n",
       "\n",
       "    .dataframe thead th {\n",
       "        text-align: right;\n",
       "    }\n",
       "</style>\n",
       "<table border=\"1\" class=\"dataframe\">\n",
       "  <thead>\n",
       "    <tr style=\"text-align: right;\">\n",
       "      <th></th>\n",
       "      <th>artists</th>\n",
       "      <th>count</th>\n",
       "    </tr>\n",
       "  </thead>\n",
       "  <tbody>\n",
       "    <tr>\n",
       "      <th>0</th>\n",
       "      <td>Post Malone</td>\n",
       "      <td>6</td>\n",
       "    </tr>\n",
       "    <tr>\n",
       "      <th>1</th>\n",
       "      <td>XXXTENTACION</td>\n",
       "      <td>6</td>\n",
       "    </tr>\n",
       "    <tr>\n",
       "      <th>2</th>\n",
       "      <td>Drake</td>\n",
       "      <td>4</td>\n",
       "    </tr>\n",
       "    <tr>\n",
       "      <th>3</th>\n",
       "      <td>Ed Sheeran</td>\n",
       "      <td>3</td>\n",
       "    </tr>\n",
       "    <tr>\n",
       "      <th>4</th>\n",
       "      <td>Marshmello</td>\n",
       "      <td>3</td>\n",
       "    </tr>\n",
       "    <tr>\n",
       "      <th>5</th>\n",
       "      <td>Dua Lipa</td>\n",
       "      <td>2</td>\n",
       "    </tr>\n",
       "    <tr>\n",
       "      <th>6</th>\n",
       "      <td>Imagine Dragons</td>\n",
       "      <td>2</td>\n",
       "    </tr>\n",
       "    <tr>\n",
       "      <th>7</th>\n",
       "      <td>Ozuna</td>\n",
       "      <td>2</td>\n",
       "    </tr>\n",
       "    <tr>\n",
       "      <th>8</th>\n",
       "      <td>Selena Gomez</td>\n",
       "      <td>2</td>\n",
       "    </tr>\n",
       "    <tr>\n",
       "      <th>9</th>\n",
       "      <td>Clean Bandit</td>\n",
       "      <td>2</td>\n",
       "    </tr>\n",
       "  </tbody>\n",
       "</table>\n",
       "</div>"
      ],
      "text/plain": [
       "           artists  count\n",
       "0      Post Malone      6\n",
       "1     XXXTENTACION      6\n",
       "2            Drake      4\n",
       "3       Ed Sheeran      3\n",
       "4       Marshmello      3\n",
       "5         Dua Lipa      2\n",
       "6  Imagine Dragons      2\n",
       "7            Ozuna      2\n",
       "8     Selena Gomez      2\n",
       "9     Clean Bandit      2"
      ]
     },
     "execution_count": 11,
     "metadata": {},
     "output_type": "execute_result"
    }
   ],
   "source": [
    "top10artist = artist.head(10)\n",
    "top10artist"
   ]
  },
  {
   "cell_type": "code",
   "execution_count": 12,
   "id": "nuclear-category",
   "metadata": {
    "execution": {
     "iopub.execute_input": "2021-06-13T13:22:10.649712Z",
     "iopub.status.busy": "2021-06-13T13:22:10.649083Z",
     "iopub.status.idle": "2021-06-13T13:22:10.652162Z",
     "shell.execute_reply": "2021-06-13T13:22:10.652734Z",
     "shell.execute_reply.started": "2021-06-13T11:31:52.047159Z"
    },
    "papermill": {
     "duration": 0.055107,
     "end_time": "2021-06-13T13:22:10.652908",
     "exception": false,
     "start_time": "2021-06-13T13:22:10.597801",
     "status": "completed"
    },
    "tags": []
   },
   "outputs": [],
   "source": [
    "# importing matplotlib for plotting\n",
    "import matplotlib.pyplot as plt"
   ]
  },
  {
   "cell_type": "code",
   "execution_count": 13,
   "id": "surface-steam",
   "metadata": {
    "execution": {
     "iopub.execute_input": "2021-06-13T13:22:10.752830Z",
     "iopub.status.busy": "2021-06-13T13:22:10.752191Z",
     "iopub.status.idle": "2021-06-13T13:22:10.996733Z",
     "shell.execute_reply": "2021-06-13T13:22:10.996169Z",
     "shell.execute_reply.started": "2021-06-13T11:41:44.066518Z"
    },
    "papermill": {
     "duration": 0.295589,
     "end_time": "2021-06-13T13:22:10.996879",
     "exception": false,
     "start_time": "2021-06-13T13:22:10.701290",
     "status": "completed"
    },
    "tags": []
   },
   "outputs": [
    {
     "data": {
      "image/png": "[encoded data removed]",
      "text/plain": [
       "<Figure size 1080x576 with 1 Axes>"
      ]
     },
     "metadata": {
      "needs_background": "light"
     },
     "output_type": "display_data"
    }
   ],
   "source": [
    "fig = plt.figure(figsize=(15,8))\n",
    "plt.bar(top10artist[\"artists\"],top10artist[\"count\"],color=\"purple\",width=0.3)\n",
    "plt.xlabel(\"Artists\")\n",
    "plt.ylabel(\"Number of Songs\")\n",
    "plt.title(\"Artist vs songs\")\n",
    "plt.show()"
   ]
  },
  {
   "cell_type": "markdown",
   "id": "hidden-thong",
   "metadata": {
    "papermill": {
     "duration": 0.049279,
     "end_time": "2021-06-13T13:22:11.095932",
     "exception": false,
     "start_time": "2021-06-13T13:22:11.046653",
     "status": "completed"
    },
    "tags": []
   },
   "source": [
    "Exporting top10artist dataframe to CSV format "
   ]
  },
  {
   "cell_type": "code",
   "execution_count": 14,
   "id": "bulgarian-strength",
   "metadata": {
    "execution": {
     "iopub.execute_input": "2021-06-13T13:22:11.199959Z",
     "iopub.status.busy": "2021-06-13T13:22:11.198901Z",
     "iopub.status.idle": "2021-06-13T13:22:11.205739Z",
     "shell.execute_reply": "2021-06-13T13:22:11.205146Z",
     "shell.execute_reply.started": "2021-06-13T11:42:51.875765Z"
    },
    "papermill": {
     "duration": 0.060674,
     "end_time": "2021-06-13T13:22:11.205894",
     "exception": false,
     "start_time": "2021-06-13T13:22:11.145220",
     "status": "completed"
    },
    "tags": []
   },
   "outputs": [],
   "source": [
    "top10artist.to_csv(\"Top 10 artist.csv\",index=None)"
   ]
  },
  {
   "cell_type": "markdown",
   "id": "turkish-planet",
   "metadata": {
    "papermill": {
     "duration": 0.049186,
     "end_time": "2021-06-13T13:22:11.304980",
     "exception": false,
     "start_time": "2021-06-13T13:22:11.255794",
     "status": "completed"
    },
    "tags": []
   },
   "source": [
    "## Checking the Correlation\n"
   ]
  },
  {
   "cell_type": "code",
   "execution_count": 15,
   "id": "lucky-bhutan",
   "metadata": {
    "execution": {
     "iopub.execute_input": "2021-06-13T13:22:11.408372Z",
     "iopub.status.busy": "2021-06-13T13:22:11.407384Z",
     "iopub.status.idle": "2021-06-13T13:22:12.705903Z",
     "shell.execute_reply": "2021-06-13T13:22:12.706376Z",
     "shell.execute_reply.started": "2021-06-13T11:52:36.276867Z"
    },
    "papermill": {
     "duration": 1.352148,
     "end_time": "2021-06-13T13:22:12.706556",
     "exception": false,
     "start_time": "2021-06-13T13:22:11.354408",
     "status": "completed"
    },
    "tags": []
   },
   "outputs": [
    {
     "data": {
      "text/plain": [
       "<AxesSubplot:>"
      ]
     },
     "execution_count": 15,
     "metadata": {},
     "output_type": "execute_result"
    },
    {
     "data": {
      "image/png": "[encoded data removed]",
      "text/plain": [
       "<Figure size 720x720 with 2 Axes>"
      ]
     },
     "metadata": {
      "needs_background": "light"
     },
     "output_type": "display_data"
    }
   ],
   "source": [
    "import seaborn as sns\n",
    "corr = df.corr()\n",
    "fig, ax = plt.subplots(figsize=(10,10)) \n",
    "sns.heatmap(corr,xticklabels=corr.columns.values,yticklabels=corr.columns.values,linewidths=.5, ax=ax)"
   ]
  },
  {
   "cell_type": "code",
   "execution_count": 16,
   "id": "turkish-address",
   "metadata": {
    "execution": {
     "iopub.execute_input": "2021-06-13T13:22:12.812824Z",
     "iopub.status.busy": "2021-06-13T13:22:12.811832Z",
     "iopub.status.idle": "2021-06-13T13:22:12.818384Z",
     "shell.execute_reply": "2021-06-13T13:22:12.818919Z",
     "shell.execute_reply.started": "2021-06-13T11:53:54.496883Z"
    },
    "papermill": {
     "duration": 0.061296,
     "end_time": "2021-06-13T13:22:12.819090",
     "exception": false,
     "start_time": "2021-06-13T13:22:12.757794",
     "status": "completed"
    },
    "tags": []
   },
   "outputs": [
    {
     "data": {
      "text/plain": [
       "Index(['id', 'name', 'artists', 'danceability', 'energy', 'key', 'loudness',\n",
       "       'mode', 'speechiness', 'acousticness', 'instrumentalness', 'liveness',\n",
       "       'valence', 'tempo', 'duration_ms', 'time_signature'],\n",
       "      dtype='object')"
      ]
     },
     "execution_count": 16,
     "metadata": {},
     "output_type": "execute_result"
    }
   ],
   "source": [
    "# viewing the columns of the dataframe\n",
    "df.columns"
   ]
  },
  {
   "cell_type": "markdown",
   "id": "rising-spectrum",
   "metadata": {
    "papermill": {
     "duration": 0.051683,
     "end_time": "2021-06-13T13:22:12.922409",
     "exception": false,
     "start_time": "2021-06-13T13:22:12.870726",
     "status": "completed"
    },
    "tags": []
   },
   "source": [
    "## Checking the artist with their max danceability, energy, key, loudness"
   ]
  },
  {
   "cell_type": "markdown",
   "id": "commercial-rough",
   "metadata": {
    "papermill": {
     "duration": 0.052758,
     "end_time": "2021-06-13T13:22:13.027179",
     "exception": false,
     "start_time": "2021-06-13T13:22:12.974421",
     "status": "completed"
    },
    "tags": []
   },
   "source": [
    "### Danceability"
   ]
  },
  {
   "cell_type": "code",
   "execution_count": 17,
   "id": "stainless-ballet",
   "metadata": {
    "execution": {
     "iopub.execute_input": "2021-06-13T13:22:13.144385Z",
     "iopub.status.busy": "2021-06-13T13:22:13.143727Z",
     "iopub.status.idle": "2021-06-13T13:22:13.147248Z",
     "shell.execute_reply": "2021-06-13T13:22:13.147766Z",
     "shell.execute_reply.started": "2021-06-13T12:03:23.806781Z"
    },
    "papermill": {
     "duration": 0.067604,
     "end_time": "2021-06-13T13:22:13.147938",
     "exception": false,
     "start_time": "2021-06-13T13:22:13.080334",
     "status": "completed"
    },
    "tags": []
   },
   "outputs": [
    {
     "data": {
      "text/plain": [
       "artists\n",
       "Lil Baby        0.964\n",
       "6ix9ine         0.931\n",
       "BlocBoy JB      0.922\n",
       "XXXTENTACION    0.921\n",
       "Drake           0.912\n",
       "Name: danceability, dtype: float64"
      ]
     },
     "execution_count": 17,
     "metadata": {},
     "output_type": "execute_result"
    }
   ],
   "source": [
    "dan=df.groupby([\"artists\"])[\"danceability\"].max().sort_values(ascending=False)\n",
    "dan.head()"
   ]
  },
  {
   "cell_type": "code",
   "execution_count": 18,
   "id": "expired-formula",
   "metadata": {
    "execution": {
     "iopub.execute_input": "2021-06-13T13:22:13.255256Z",
     "iopub.status.busy": "2021-06-13T13:22:13.254594Z",
     "iopub.status.idle": "2021-06-13T13:22:13.269172Z",
     "shell.execute_reply": "2021-06-13T13:22:13.269637Z",
     "shell.execute_reply.started": "2021-06-13T12:03:48.046216Z"
    },
    "papermill": {
     "duration": 0.070028,
     "end_time": "2021-06-13T13:22:13.269820",
     "exception": false,
     "start_time": "2021-06-13T13:22:13.199792",
     "status": "completed"
    },
    "tags": []
   },
   "outputs": [
    {
     "data": {
      "text/html": [
       "<div>\n",
       "<style scoped>\n",
       "    .dataframe tbody tr th:only-of-type {\n",
       "        vertical-align: middle;\n",
       "    }\n",
       "\n",
       "    .dataframe tbody tr th {\n",
       "        vertical-align: top;\n",
       "    }\n",
       "\n",
       "    .dataframe thead th {\n",
       "        text-align: right;\n",
       "    }\n",
       "</style>\n",
       "<table border=\"1\" class=\"dataframe\">\n",
       "  <thead>\n",
       "    <tr style=\"text-align: right;\">\n",
       "      <th></th>\n",
       "      <th>artists</th>\n",
       "      <th>danceability</th>\n",
       "    </tr>\n",
       "  </thead>\n",
       "  <tbody>\n",
       "    <tr>\n",
       "      <th>0</th>\n",
       "      <td>Lil Baby</td>\n",
       "      <td>0.964</td>\n",
       "    </tr>\n",
       "    <tr>\n",
       "      <th>1</th>\n",
       "      <td>6ix9ine</td>\n",
       "      <td>0.931</td>\n",
       "    </tr>\n",
       "    <tr>\n",
       "      <th>2</th>\n",
       "      <td>BlocBoy JB</td>\n",
       "      <td>0.922</td>\n",
       "    </tr>\n",
       "    <tr>\n",
       "      <th>3</th>\n",
       "      <td>XXXTENTACION</td>\n",
       "      <td>0.921</td>\n",
       "    </tr>\n",
       "    <tr>\n",
       "      <th>4</th>\n",
       "      <td>Drake</td>\n",
       "      <td>0.912</td>\n",
       "    </tr>\n",
       "    <tr>\n",
       "      <th>...</th>\n",
       "      <td>...</td>\n",
       "      <td>...</td>\n",
       "    </tr>\n",
       "    <tr>\n",
       "      <th>65</th>\n",
       "      <td>DJ Khaled</td>\n",
       "      <td>0.552</td>\n",
       "    </tr>\n",
       "    <tr>\n",
       "      <th>66</th>\n",
       "      <td>Juice WRLD</td>\n",
       "      <td>0.511</td>\n",
       "    </tr>\n",
       "    <tr>\n",
       "      <th>67</th>\n",
       "      <td>Billie Eilish</td>\n",
       "      <td>0.351</td>\n",
       "    </tr>\n",
       "    <tr>\n",
       "      <th>68</th>\n",
       "      <td>Keala Settle</td>\n",
       "      <td>0.284</td>\n",
       "    </tr>\n",
       "    <tr>\n",
       "      <th>69</th>\n",
       "      <td>ZAYN</td>\n",
       "      <td>0.258</td>\n",
       "    </tr>\n",
       "  </tbody>\n",
       "</table>\n",
       "<p>70 rows × 2 columns</p>\n",
       "</div>"
      ],
      "text/plain": [
       "          artists  danceability\n",
       "0        Lil Baby         0.964\n",
       "1         6ix9ine         0.931\n",
       "2      BlocBoy JB         0.922\n",
       "3    XXXTENTACION         0.921\n",
       "4           Drake         0.912\n",
       "..            ...           ...\n",
       "65      DJ Khaled         0.552\n",
       "66     Juice WRLD         0.511\n",
       "67  Billie Eilish         0.351\n",
       "68   Keala Settle         0.284\n",
       "69           ZAYN         0.258\n",
       "\n",
       "[70 rows x 2 columns]"
      ]
     },
     "execution_count": 18,
     "metadata": {},
     "output_type": "execute_result"
    }
   ],
   "source": [
    "##converting dan to a dataframe\n",
    "dan=dan.to_frame()\n",
    "# Resetting the index\n",
    "dan = dan.reset_index()\n",
    "dan"
   ]
  },
  {
   "cell_type": "code",
   "execution_count": 19,
   "id": "young-weapon",
   "metadata": {
    "execution": {
     "iopub.execute_input": "2021-06-13T13:22:13.379675Z",
     "iopub.status.busy": "2021-06-13T13:22:13.378984Z",
     "iopub.status.idle": "2021-06-13T13:22:13.391913Z",
     "shell.execute_reply": "2021-06-13T13:22:13.391184Z",
     "shell.execute_reply.started": "2021-06-13T12:04:28.937442Z"
    },
    "papermill": {
     "duration": 0.069565,
     "end_time": "2021-06-13T13:22:13.392070",
     "exception": false,
     "start_time": "2021-06-13T13:22:13.322505",
     "status": "completed"
    },
    "tags": []
   },
   "outputs": [
    {
     "data": {
      "text/html": [
       "<div>\n",
       "<style scoped>\n",
       "    .dataframe tbody tr th:only-of-type {\n",
       "        vertical-align: middle;\n",
       "    }\n",
       "\n",
       "    .dataframe tbody tr th {\n",
       "        vertical-align: top;\n",
       "    }\n",
       "\n",
       "    .dataframe thead th {\n",
       "        text-align: right;\n",
       "    }\n",
       "</style>\n",
       "<table border=\"1\" class=\"dataframe\">\n",
       "  <thead>\n",
       "    <tr style=\"text-align: right;\">\n",
       "      <th></th>\n",
       "      <th>artists</th>\n",
       "      <th>danceability</th>\n",
       "    </tr>\n",
       "  </thead>\n",
       "  <tbody>\n",
       "    <tr>\n",
       "      <th>0</th>\n",
       "      <td>Lil Baby</td>\n",
       "      <td>0.964</td>\n",
       "    </tr>\n",
       "    <tr>\n",
       "      <th>1</th>\n",
       "      <td>6ix9ine</td>\n",
       "      <td>0.931</td>\n",
       "    </tr>\n",
       "    <tr>\n",
       "      <th>2</th>\n",
       "      <td>BlocBoy JB</td>\n",
       "      <td>0.922</td>\n",
       "    </tr>\n",
       "    <tr>\n",
       "      <th>3</th>\n",
       "      <td>XXXTENTACION</td>\n",
       "      <td>0.921</td>\n",
       "    </tr>\n",
       "    <tr>\n",
       "      <th>4</th>\n",
       "      <td>Drake</td>\n",
       "      <td>0.912</td>\n",
       "    </tr>\n",
       "    <tr>\n",
       "      <th>5</th>\n",
       "      <td>Migos</td>\n",
       "      <td>0.909</td>\n",
       "    </tr>\n",
       "    <tr>\n",
       "      <th>6</th>\n",
       "      <td>Wolfine</td>\n",
       "      <td>0.909</td>\n",
       "    </tr>\n",
       "    <tr>\n",
       "      <th>7</th>\n",
       "      <td>Kendrick Lamar</td>\n",
       "      <td>0.908</td>\n",
       "    </tr>\n",
       "    <tr>\n",
       "      <th>8</th>\n",
       "      <td>Nio Garcia</td>\n",
       "      <td>0.903</td>\n",
       "    </tr>\n",
       "    <tr>\n",
       "      <th>9</th>\n",
       "      <td>Tyga</td>\n",
       "      <td>0.884</td>\n",
       "    </tr>\n",
       "  </tbody>\n",
       "</table>\n",
       "</div>"
      ],
      "text/plain": [
       "          artists  danceability\n",
       "0        Lil Baby         0.964\n",
       "1         6ix9ine         0.931\n",
       "2      BlocBoy JB         0.922\n",
       "3    XXXTENTACION         0.921\n",
       "4           Drake         0.912\n",
       "5           Migos         0.909\n",
       "6         Wolfine         0.909\n",
       "7  Kendrick Lamar         0.908\n",
       "8      Nio Garcia         0.903\n",
       "9            Tyga         0.884"
      ]
     },
     "execution_count": 19,
     "metadata": {},
     "output_type": "execute_result"
    }
   ],
   "source": [
    "top10dan=dan.head(10)\n",
    "top10dan"
   ]
  },
  {
   "cell_type": "code",
   "execution_count": 20,
   "id": "fourth-satisfaction",
   "metadata": {
    "execution": {
     "iopub.execute_input": "2021-06-13T13:22:13.550898Z",
     "iopub.status.busy": "2021-06-13T13:22:13.549721Z",
     "iopub.status.idle": "2021-06-13T13:22:13.804073Z",
     "shell.execute_reply": "2021-06-13T13:22:13.804564Z",
     "shell.execute_reply.started": "2021-06-13T12:10:37.696874Z"
    },
    "papermill": {
     "duration": 0.354308,
     "end_time": "2021-06-13T13:22:13.804751",
     "exception": false,
     "start_time": "2021-06-13T13:22:13.450443",
     "status": "completed"
    },
    "tags": []
   },
   "outputs": [
    {
     "data": {
      "image/png": "[encoded data removed]",
      "text/plain": [
       "<Figure size 1080x576 with 1 Axes>"
      ]
     },
     "metadata": {
      "needs_background": "light"
     },
     "output_type": "display_data"
    }
   ],
   "source": [
    "figure = plt.figure(figsize=(15,8))\n",
    "plots=sns.barplot(x=\"artists\",y=\"danceability\",data=top10dan)\n",
    "for bar in plots.patches:\n",
    "    plots.annotate(format(bar.get_height(), '.2f'), \n",
    "                   (bar.get_x() + bar.get_width() / 2, \n",
    "                    bar.get_height()), ha='center', va='center',\n",
    "                   size=15, xytext=(0, 8),\n",
    "                   textcoords='offset points')\n",
    "plt.xlabel(\"Artists\",size=15)\n",
    "plt.ylabel(\"Danceability\",size=15)\n",
    "plt.title(\"Danceability\",size=20)\n",
    "plt.show()"
   ]
  },
  {
   "cell_type": "code",
   "execution_count": 21,
   "id": "cellular-scenario",
   "metadata": {
    "execution": {
     "iopub.execute_input": "2021-06-13T13:22:13.919312Z",
     "iopub.status.busy": "2021-06-13T13:22:13.918369Z",
     "iopub.status.idle": "2021-06-13T13:22:13.921716Z",
     "shell.execute_reply": "2021-06-13T13:22:13.922186Z",
     "shell.execute_reply.started": "2021-06-13T12:11:15.675899Z"
    },
    "papermill": {
     "duration": 0.064082,
     "end_time": "2021-06-13T13:22:13.922365",
     "exception": false,
     "start_time": "2021-06-13T13:22:13.858283",
     "status": "completed"
    },
    "tags": []
   },
   "outputs": [],
   "source": [
    "# Exporting it to CSV file\n",
    "top10dan.to_csv(\"Top 10 danceability.csv\",index=False)"
   ]
  },
  {
   "cell_type": "markdown",
   "id": "frozen-tunisia",
   "metadata": {
    "papermill": {
     "duration": 0.053614,
     "end_time": "2021-06-13T13:22:14.029800",
     "exception": false,
     "start_time": "2021-06-13T13:22:13.976186",
     "status": "completed"
    },
    "tags": []
   },
   "source": [
    "### Energy"
   ]
  },
  {
   "cell_type": "code",
   "execution_count": 22,
   "id": "controlling-addition",
   "metadata": {
    "execution": {
     "iopub.execute_input": "2021-06-13T13:22:14.140813Z",
     "iopub.status.busy": "2021-06-13T13:22:14.139855Z",
     "iopub.status.idle": "2021-06-13T13:22:14.149918Z",
     "shell.execute_reply": "2021-06-13T13:22:14.150404Z",
     "shell.execute_reply.started": "2021-06-13T12:13:41.225974Z"
    },
    "papermill": {
     "duration": 0.067134,
     "end_time": "2021-06-13T13:22:14.150584",
     "exception": false,
     "start_time": "2021-06-13T13:22:14.083450",
     "status": "completed"
    },
    "tags": []
   },
   "outputs": [
    {
     "data": {
      "text/plain": [
       "artists\n",
       "Drake            0.909\n",
       "Sofia Reyes      0.895\n",
       "Luis Fonsi       0.889\n",
       "Marshmello       0.880\n",
       "Calvin Harris    0.862\n",
       "                 ...  \n",
       "Offset           0.428\n",
       "6ix9ine          0.387\n",
       "Sam Smith        0.375\n",
       "Lil Baby         0.346\n",
       "Billie Eilish    0.296\n",
       "Name: energy, Length: 70, dtype: float64"
      ]
     },
     "execution_count": 22,
     "metadata": {},
     "output_type": "execute_result"
    }
   ],
   "source": [
    "ene = df.groupby([\"artists\"])[\"energy\"].max().sort_values(ascending=False)\n",
    "ene"
   ]
  },
  {
   "cell_type": "code",
   "execution_count": 23,
   "id": "distinct-charter",
   "metadata": {
    "execution": {
     "iopub.execute_input": "2021-06-13T13:22:14.274661Z",
     "iopub.status.busy": "2021-06-13T13:22:14.273691Z",
     "iopub.status.idle": "2021-06-13T13:22:14.278180Z",
     "shell.execute_reply": "2021-06-13T13:22:14.277555Z",
     "shell.execute_reply.started": "2021-06-13T12:14:46.661158Z"
    },
    "papermill": {
     "duration": 0.073706,
     "end_time": "2021-06-13T13:22:14.278315",
     "exception": false,
     "start_time": "2021-06-13T13:22:14.204609",
     "status": "completed"
    },
    "tags": []
   },
   "outputs": [
    {
     "data": {
      "text/html": [
       "<div>\n",
       "<style scoped>\n",
       "    .dataframe tbody tr th:only-of-type {\n",
       "        vertical-align: middle;\n",
       "    }\n",
       "\n",
       "    .dataframe tbody tr th {\n",
       "        vertical-align: top;\n",
       "    }\n",
       "\n",
       "    .dataframe thead th {\n",
       "        text-align: right;\n",
       "    }\n",
       "</style>\n",
       "<table border=\"1\" class=\"dataframe\">\n",
       "  <thead>\n",
       "    <tr style=\"text-align: right;\">\n",
       "      <th></th>\n",
       "      <th>artists</th>\n",
       "      <th>energy</th>\n",
       "    </tr>\n",
       "  </thead>\n",
       "  <tbody>\n",
       "    <tr>\n",
       "      <th>0</th>\n",
       "      <td>Drake</td>\n",
       "      <td>0.909</td>\n",
       "    </tr>\n",
       "    <tr>\n",
       "      <th>1</th>\n",
       "      <td>Sofia Reyes</td>\n",
       "      <td>0.895</td>\n",
       "    </tr>\n",
       "    <tr>\n",
       "      <th>2</th>\n",
       "      <td>Luis Fonsi</td>\n",
       "      <td>0.889</td>\n",
       "    </tr>\n",
       "    <tr>\n",
       "      <th>3</th>\n",
       "      <td>Marshmello</td>\n",
       "      <td>0.880</td>\n",
       "    </tr>\n",
       "    <tr>\n",
       "      <th>4</th>\n",
       "      <td>Calvin Harris</td>\n",
       "      <td>0.862</td>\n",
       "    </tr>\n",
       "    <tr>\n",
       "      <th>...</th>\n",
       "      <td>...</td>\n",
       "      <td>...</td>\n",
       "    </tr>\n",
       "    <tr>\n",
       "      <th>65</th>\n",
       "      <td>Offset</td>\n",
       "      <td>0.428</td>\n",
       "    </tr>\n",
       "    <tr>\n",
       "      <th>66</th>\n",
       "      <td>6ix9ine</td>\n",
       "      <td>0.387</td>\n",
       "    </tr>\n",
       "    <tr>\n",
       "      <th>67</th>\n",
       "      <td>Sam Smith</td>\n",
       "      <td>0.375</td>\n",
       "    </tr>\n",
       "    <tr>\n",
       "      <th>68</th>\n",
       "      <td>Lil Baby</td>\n",
       "      <td>0.346</td>\n",
       "    </tr>\n",
       "    <tr>\n",
       "      <th>69</th>\n",
       "      <td>Billie Eilish</td>\n",
       "      <td>0.296</td>\n",
       "    </tr>\n",
       "  </tbody>\n",
       "</table>\n",
       "<p>70 rows × 2 columns</p>\n",
       "</div>"
      ],
      "text/plain": [
       "          artists  energy\n",
       "0           Drake   0.909\n",
       "1     Sofia Reyes   0.895\n",
       "2      Luis Fonsi   0.889\n",
       "3      Marshmello   0.880\n",
       "4   Calvin Harris   0.862\n",
       "..            ...     ...\n",
       "65         Offset   0.428\n",
       "66        6ix9ine   0.387\n",
       "67      Sam Smith   0.375\n",
       "68       Lil Baby   0.346\n",
       "69  Billie Eilish   0.296\n",
       "\n",
       "[70 rows x 2 columns]"
      ]
     },
     "execution_count": 23,
     "metadata": {},
     "output_type": "execute_result"
    }
   ],
   "source": [
    "#converting it to a dataframe\n",
    "\n",
    "ene = ene.to_frame()\n",
    "\n",
    "#reseting the index\n",
    "\n",
    "ene = ene.reset_index()\n",
    "\n",
    "ene"
   ]
  },
  {
   "cell_type": "code",
   "execution_count": 24,
   "id": "connected-seven",
   "metadata": {
    "execution": {
     "iopub.execute_input": "2021-06-13T13:22:14.399432Z",
     "iopub.status.busy": "2021-06-13T13:22:14.398708Z",
     "iopub.status.idle": "2021-06-13T13:22:14.401465Z",
     "shell.execute_reply": "2021-06-13T13:22:14.402054Z",
     "shell.execute_reply.started": "2021-06-13T12:15:23.477196Z"
    },
    "papermill": {
     "duration": 0.069135,
     "end_time": "2021-06-13T13:22:14.402246",
     "exception": false,
     "start_time": "2021-06-13T13:22:14.333111",
     "status": "completed"
    },
    "tags": []
   },
   "outputs": [
    {
     "data": {
      "text/html": [
       "<div>\n",
       "<style scoped>\n",
       "    .dataframe tbody tr th:only-of-type {\n",
       "        vertical-align: middle;\n",
       "    }\n",
       "\n",
       "    .dataframe tbody tr th {\n",
       "        vertical-align: top;\n",
       "    }\n",
       "\n",
       "    .dataframe thead th {\n",
       "        text-align: right;\n",
       "    }\n",
       "</style>\n",
       "<table border=\"1\" class=\"dataframe\">\n",
       "  <thead>\n",
       "    <tr style=\"text-align: right;\">\n",
       "      <th></th>\n",
       "      <th>artists</th>\n",
       "      <th>energy</th>\n",
       "    </tr>\n",
       "  </thead>\n",
       "  <tbody>\n",
       "    <tr>\n",
       "      <th>0</th>\n",
       "      <td>Drake</td>\n",
       "      <td>0.909</td>\n",
       "    </tr>\n",
       "    <tr>\n",
       "      <th>1</th>\n",
       "      <td>Sofia Reyes</td>\n",
       "      <td>0.895</td>\n",
       "    </tr>\n",
       "    <tr>\n",
       "      <th>2</th>\n",
       "      <td>Luis Fonsi</td>\n",
       "      <td>0.889</td>\n",
       "    </tr>\n",
       "    <tr>\n",
       "      <th>3</th>\n",
       "      <td>Marshmello</td>\n",
       "      <td>0.880</td>\n",
       "    </tr>\n",
       "    <tr>\n",
       "      <th>4</th>\n",
       "      <td>Calvin Harris</td>\n",
       "      <td>0.862</td>\n",
       "    </tr>\n",
       "    <tr>\n",
       "      <th>5</th>\n",
       "      <td>Bruno Mars</td>\n",
       "      <td>0.859</td>\n",
       "    </tr>\n",
       "    <tr>\n",
       "      <th>6</th>\n",
       "      <td>5 Seconds of Summer</td>\n",
       "      <td>0.854</td>\n",
       "    </tr>\n",
       "    <tr>\n",
       "      <th>7</th>\n",
       "      <td>Daddy Yankee</td>\n",
       "      <td>0.848</td>\n",
       "    </tr>\n",
       "    <tr>\n",
       "      <th>8</th>\n",
       "      <td>Ti?sto</td>\n",
       "      <td>0.834</td>\n",
       "    </tr>\n",
       "    <tr>\n",
       "      <th>9</th>\n",
       "      <td>Imagine Dragons</td>\n",
       "      <td>0.822</td>\n",
       "    </tr>\n",
       "  </tbody>\n",
       "</table>\n",
       "</div>"
      ],
      "text/plain": [
       "               artists  energy\n",
       "0                Drake   0.909\n",
       "1          Sofia Reyes   0.895\n",
       "2           Luis Fonsi   0.889\n",
       "3           Marshmello   0.880\n",
       "4        Calvin Harris   0.862\n",
       "5           Bruno Mars   0.859\n",
       "6  5 Seconds of Summer   0.854\n",
       "7         Daddy Yankee   0.848\n",
       "8               Ti?sto   0.834\n",
       "9      Imagine Dragons   0.822"
      ]
     },
     "execution_count": 24,
     "metadata": {},
     "output_type": "execute_result"
    }
   ],
   "source": [
    "# Viewing the top 10 artists\n",
    "top10ene = ene.head(10)\n",
    "top10ene"
   ]
  },
  {
   "cell_type": "code",
   "execution_count": 25,
   "id": "sudden-vocabulary",
   "metadata": {
    "execution": {
     "iopub.execute_input": "2021-06-13T13:22:14.520176Z",
     "iopub.status.busy": "2021-06-13T13:22:14.519546Z",
     "iopub.status.idle": "2021-06-13T13:22:14.756605Z",
     "shell.execute_reply": "2021-06-13T13:22:14.757128Z",
     "shell.execute_reply.started": "2021-06-13T12:23:10.646354Z"
    },
    "papermill": {
     "duration": 0.294999,
     "end_time": "2021-06-13T13:22:14.757300",
     "exception": false,
     "start_time": "2021-06-13T13:22:14.462301",
     "status": "completed"
    },
    "tags": []
   },
   "outputs": [
    {
     "data": {
      "image/png": "[encoded data removed]",
      "text/plain": [
       "<Figure size 1224x360 with 1 Axes>"
      ]
     },
     "metadata": {
      "needs_background": "light"
     },
     "output_type": "display_data"
    }
   ],
   "source": [
    "figure = plt.figure(figsize=(17,5))\n",
    "ax = figure.add_subplot(111)\n",
    "plt.plot(top10ene[\"artists\"],top10ene[\"energy\"],color=\"red\")\n",
    "for i,j in top10ene.energy.items():\n",
    "    ax.annotate(str(j), xy=(i, j))\n",
    "plt.xlabel(\"Artist\")\n",
    "plt.ylabel(\"Energy level\")\n",
    "plt.title(\"Energy level for Artist\",size=20)\n",
    "plt.show()"
   ]
  },
  {
   "cell_type": "code",
   "execution_count": 26,
   "id": "electrical-restaurant",
   "metadata": {
    "execution": {
     "iopub.execute_input": "2021-06-13T13:22:14.874126Z",
     "iopub.status.busy": "2021-06-13T13:22:14.873460Z",
     "iopub.status.idle": "2021-06-13T13:22:14.879433Z",
     "shell.execute_reply": "2021-06-13T13:22:14.878899Z",
     "shell.execute_reply.started": "2021-06-13T12:24:42.986319Z"
    },
    "papermill": {
     "duration": 0.065255,
     "end_time": "2021-06-13T13:22:14.879586",
     "exception": false,
     "start_time": "2021-06-13T13:22:14.814331",
     "status": "completed"
    },
    "tags": []
   },
   "outputs": [],
   "source": [
    "#Exporting it to a csv file\n",
    "top10ene.to_csv(\"Top 10 energy.csv\",index=False)"
   ]
  },
  {
   "cell_type": "code",
   "execution_count": 27,
   "id": "further-ceramic",
   "metadata": {
    "execution": {
     "iopub.execute_input": "2021-06-13T13:22:15.000318Z",
     "iopub.status.busy": "2021-06-13T13:22:14.999473Z",
     "iopub.status.idle": "2021-06-13T13:22:15.002856Z",
     "shell.execute_reply": "2021-06-13T13:22:15.003339Z",
     "shell.execute_reply.started": "2021-06-13T12:25:17.507341Z"
    },
    "papermill": {
     "duration": 0.066314,
     "end_time": "2021-06-13T13:22:15.003505",
     "exception": false,
     "start_time": "2021-06-13T13:22:14.937191",
     "status": "completed"
    },
    "tags": []
   },
   "outputs": [
    {
     "data": {
      "text/plain": [
       "Index(['id', 'name', 'artists', 'danceability', 'energy', 'key', 'loudness',\n",
       "       'mode', 'speechiness', 'acousticness', 'instrumentalness', 'liveness',\n",
       "       'valence', 'tempo', 'duration_ms', 'time_signature'],\n",
       "      dtype='object')"
      ]
     },
     "execution_count": 27,
     "metadata": {},
     "output_type": "execute_result"
    }
   ],
   "source": [
    "df.columns"
   ]
  },
  {
   "cell_type": "markdown",
   "id": "younger-somewhere",
   "metadata": {
    "papermill": {
     "duration": 0.056526,
     "end_time": "2021-06-13T13:22:15.117695",
     "exception": false,
     "start_time": "2021-06-13T13:22:15.061169",
     "status": "completed"
    },
    "tags": []
   },
   "source": [
    "### Key, speechiness and acousticness"
   ]
  },
  {
   "cell_type": "code",
   "execution_count": 28,
   "id": "composed-bryan",
   "metadata": {
    "execution": {
     "iopub.execute_input": "2021-06-13T13:22:15.235464Z",
     "iopub.status.busy": "2021-06-13T13:22:15.234432Z",
     "iopub.status.idle": "2021-06-13T13:22:15.248385Z",
     "shell.execute_reply": "2021-06-13T13:22:15.249014Z",
     "shell.execute_reply.started": "2021-06-13T12:40:20.516703Z"
    },
    "papermill": {
     "duration": 0.074481,
     "end_time": "2021-06-13T13:22:15.249190",
     "exception": false,
     "start_time": "2021-06-13T13:22:15.174709",
     "status": "completed"
    },
    "tags": []
   },
   "outputs": [
    {
     "name": "stderr",
     "output_type": "stream",
     "text": [
      "/opt/conda/lib/python3.7/site-packages/ipykernel_launcher.py:1: FutureWarning: Indexing with multiple keys (implicitly converted to a tuple of keys) will be deprecated, use a list instead.\n",
      "  \"\"\"Entry point for launching an IPython kernel.\n"
     ]
    }
   ],
   "source": [
    "kla=df.groupby([\"artists\"])[\"key\",\"speechiness\",\"acousticness\"].max().sort_values(by=[\"key\",\"speechiness\"],ascending=False)\n",
    "top10kla = kla.head(10)"
   ]
  },
  {
   "cell_type": "code",
   "execution_count": 29,
   "id": "going-removal",
   "metadata": {
    "execution": {
     "iopub.execute_input": "2021-06-13T13:22:15.369230Z",
     "iopub.status.busy": "2021-06-13T13:22:15.368280Z",
     "iopub.status.idle": "2021-06-13T13:22:15.370975Z",
     "shell.execute_reply": "2021-06-13T13:22:15.371410Z",
     "shell.execute_reply.started": "2021-06-13T12:42:28.088174Z"
    },
    "papermill": {
     "duration": 0.06529,
     "end_time": "2021-06-13T13:22:15.371612",
     "exception": false,
     "start_time": "2021-06-13T13:22:15.306322",
     "status": "completed"
    },
    "tags": []
   },
   "outputs": [],
   "source": [
    "top10kla=top10kla.reset_index()"
   ]
  },
  {
   "cell_type": "code",
   "execution_count": 30,
   "id": "graphic-millennium",
   "metadata": {
    "execution": {
     "iopub.execute_input": "2021-06-13T13:22:15.501546Z",
     "iopub.status.busy": "2021-06-13T13:22:15.500505Z",
     "iopub.status.idle": "2021-06-13T13:22:15.504795Z",
     "shell.execute_reply": "2021-06-13T13:22:15.504218Z",
     "shell.execute_reply.started": "2021-06-13T12:42:30.135573Z"
    },
    "papermill": {
     "duration": 0.074518,
     "end_time": "2021-06-13T13:22:15.504942",
     "exception": false,
     "start_time": "2021-06-13T13:22:15.430424",
     "status": "completed"
    },
    "tags": []
   },
   "outputs": [
    {
     "data": {
      "text/html": [
       "<div>\n",
       "<style scoped>\n",
       "    .dataframe tbody tr th:only-of-type {\n",
       "        vertical-align: middle;\n",
       "    }\n",
       "\n",
       "    .dataframe tbody tr th {\n",
       "        vertical-align: top;\n",
       "    }\n",
       "\n",
       "    .dataframe thead th {\n",
       "        text-align: right;\n",
       "    }\n",
       "</style>\n",
       "<table border=\"1\" class=\"dataframe\">\n",
       "  <thead>\n",
       "    <tr style=\"text-align: right;\">\n",
       "      <th></th>\n",
       "      <th>artists</th>\n",
       "      <th>key</th>\n",
       "      <th>speechiness</th>\n",
       "      <th>acousticness</th>\n",
       "    </tr>\n",
       "  </thead>\n",
       "  <tbody>\n",
       "    <tr>\n",
       "      <th>0</th>\n",
       "      <td>XXXTENTACION</td>\n",
       "      <td>11.0</td>\n",
       "      <td>0.2420</td>\n",
       "      <td>0.88300</td>\n",
       "    </tr>\n",
       "    <tr>\n",
       "      <th>1</th>\n",
       "      <td>Lil Uzi Vert</td>\n",
       "      <td>11.0</td>\n",
       "      <td>0.2310</td>\n",
       "      <td>0.00264</td>\n",
       "    </tr>\n",
       "    <tr>\n",
       "      <th>2</th>\n",
       "      <td>Nio Garcia</td>\n",
       "      <td>11.0</td>\n",
       "      <td>0.2140</td>\n",
       "      <td>0.54200</td>\n",
       "    </tr>\n",
       "    <tr>\n",
       "      <th>3</th>\n",
       "      <td>Rich The Kid</td>\n",
       "      <td>11.0</td>\n",
       "      <td>0.1430</td>\n",
       "      <td>0.20200</td>\n",
       "    </tr>\n",
       "    <tr>\n",
       "      <th>4</th>\n",
       "      <td>Calvin Harris</td>\n",
       "      <td>11.0</td>\n",
       "      <td>0.1100</td>\n",
       "      <td>0.03700</td>\n",
       "    </tr>\n",
       "    <tr>\n",
       "      <th>5</th>\n",
       "      <td>Selena Gomez</td>\n",
       "      <td>11.0</td>\n",
       "      <td>0.0486</td>\n",
       "      <td>0.12900</td>\n",
       "    </tr>\n",
       "    <tr>\n",
       "      <th>6</th>\n",
       "      <td>Becky G</td>\n",
       "      <td>11.0</td>\n",
       "      <td>0.0464</td>\n",
       "      <td>0.35400</td>\n",
       "    </tr>\n",
       "    <tr>\n",
       "      <th>7</th>\n",
       "      <td>Clean Bandit</td>\n",
       "      <td>11.0</td>\n",
       "      <td>0.0456</td>\n",
       "      <td>0.24500</td>\n",
       "    </tr>\n",
       "    <tr>\n",
       "      <th>8</th>\n",
       "      <td>ZAYN</td>\n",
       "      <td>11.0</td>\n",
       "      <td>0.0390</td>\n",
       "      <td>0.10100</td>\n",
       "    </tr>\n",
       "    <tr>\n",
       "      <th>9</th>\n",
       "      <td>Dean Lewis</td>\n",
       "      <td>11.0</td>\n",
       "      <td>0.0362</td>\n",
       "      <td>0.69700</td>\n",
       "    </tr>\n",
       "  </tbody>\n",
       "</table>\n",
       "</div>"
      ],
      "text/plain": [
       "         artists   key  speechiness  acousticness\n",
       "0   XXXTENTACION  11.0       0.2420       0.88300\n",
       "1   Lil Uzi Vert  11.0       0.2310       0.00264\n",
       "2     Nio Garcia  11.0       0.2140       0.54200\n",
       "3   Rich The Kid  11.0       0.1430       0.20200\n",
       "4  Calvin Harris  11.0       0.1100       0.03700\n",
       "5   Selena Gomez  11.0       0.0486       0.12900\n",
       "6        Becky G  11.0       0.0464       0.35400\n",
       "7   Clean Bandit  11.0       0.0456       0.24500\n",
       "8           ZAYN  11.0       0.0390       0.10100\n",
       "9     Dean Lewis  11.0       0.0362       0.69700"
      ]
     },
     "execution_count": 30,
     "metadata": {},
     "output_type": "execute_result"
    }
   ],
   "source": [
    "top10kla"
   ]
  },
  {
   "cell_type": "code",
   "execution_count": 31,
   "id": "anticipated-swimming",
   "metadata": {
    "execution": {
     "iopub.execute_input": "2021-06-13T13:22:15.628856Z",
     "iopub.status.busy": "2021-06-13T13:22:15.628198Z",
     "iopub.status.idle": "2021-06-13T13:22:16.311101Z",
     "shell.execute_reply": "2021-06-13T13:22:16.310586Z",
     "shell.execute_reply.started": "2021-06-13T12:47:18.067130Z"
    },
    "papermill": {
     "duration": 0.743265,
     "end_time": "2021-06-13T13:22:16.311243",
     "exception": false,
     "start_time": "2021-06-13T13:22:15.567978",
     "status": "completed"
    },
    "tags": []
   },
   "outputs": [
    {
     "data": {
      "image/png": "[encoded data removed]",
      "text/plain": [
       "<Figure size 1080x576 with 1 Axes>"
      ]
     },
     "metadata": {
      "needs_background": "light"
     },
     "output_type": "display_data"
    },
    {
     "name": "stdout",
     "output_type": "stream",
     "text": [
      "\n",
      "\n",
      "\n"
     ]
    },
    {
     "data": {
      "image/png": "[encoded data removed]",
      "text/plain": [
       "<Figure size 1080x576 with 1 Axes>"
      ]
     },
     "metadata": {
      "needs_background": "light"
     },
     "output_type": "display_data"
    }
   ],
   "source": [
    "figure = plt.figure(figsize=(15,8))\n",
    "plots=sns.barplot(x=\"artists\",y=\"speechiness\",data=top10kla)\n",
    "for bar in plots.patches:\n",
    "    plots.annotate(format(bar.get_height(), '.2f'), \n",
    "                   (bar.get_x() + bar.get_width() / 2, \n",
    "                    bar.get_height()), ha='center', va='center',\n",
    "                   size=15, xytext=(0, 8),\n",
    "                   textcoords='offset points')\n",
    "plt.xlabel(\"Artists\",size=15)\n",
    "plt.ylabel(\"speechiness\",size=15)\n",
    "plt.title(\"speechiness for the artists with key value \\'11\\'\",size=20)\n",
    "plt.show()\n",
    "\n",
    "print(\"\\n\\n\")\n",
    "\n",
    "figure = plt.figure(figsize=(15,8))\n",
    "plots=sns.barplot(x=\"artists\",y=\"acousticness\",data=top10kla)\n",
    "for bar in plots.patches:\n",
    "    plots.annotate(format(bar.get_height(), '.2f'), \n",
    "                   (bar.get_x() + bar.get_width() / 2, \n",
    "                    bar.get_height()), ha='center', va='center',\n",
    "                   size=15, xytext=(0, 8),\n",
    "                   textcoords='offset points')\n",
    "plt.xlabel(\"Artists\",size=15)\n",
    "plt.ylabel(\"acousticness\",size=15)\n",
    "plt.title(\"acousticness for the artists with key value \\'11\\'\",size=20)\n",
    "plt.show()"
   ]
  },
  {
   "cell_type": "markdown",
   "id": "frank-auditor",
   "metadata": {
    "papermill": {
     "duration": 0.061275,
     "end_time": "2021-06-13T13:22:16.433335",
     "exception": false,
     "start_time": "2021-06-13T13:22:16.372060",
     "status": "completed"
    },
    "tags": []
   },
   "source": [
    "## Mode"
   ]
  },
  {
   "cell_type": "code",
   "execution_count": 32,
   "id": "disciplinary-deadline",
   "metadata": {
    "execution": {
     "iopub.execute_input": "2021-06-13T13:22:16.561825Z",
     "iopub.status.busy": "2021-06-13T13:22:16.561091Z",
     "iopub.status.idle": "2021-06-13T13:22:16.563923Z",
     "shell.execute_reply": "2021-06-13T13:22:16.564463Z",
     "shell.execute_reply.started": "2021-06-13T12:51:07.497181Z"
    },
    "papermill": {
     "duration": 0.070842,
     "end_time": "2021-06-13T13:22:16.564667",
     "exception": false,
     "start_time": "2021-06-13T13:22:16.493825",
     "status": "completed"
    },
    "tags": []
   },
   "outputs": [
    {
     "data": {
      "text/plain": [
       "1.0    59\n",
       "0.0    41\n",
       "Name: mode, dtype: int64"
      ]
     },
     "execution_count": 32,
     "metadata": {},
     "output_type": "execute_result"
    }
   ],
   "source": [
    "mode = df['mode'].value_counts()\n",
    "mode"
   ]
  },
  {
   "cell_type": "code",
   "execution_count": 33,
   "id": "naval-county",
   "metadata": {
    "execution": {
     "iopub.execute_input": "2021-06-13T13:22:16.695350Z",
     "iopub.status.busy": "2021-06-13T13:22:16.694707Z",
     "iopub.status.idle": "2021-06-13T13:22:16.700545Z",
     "shell.execute_reply": "2021-06-13T13:22:16.701026Z",
     "shell.execute_reply.started": "2021-06-13T12:51:08.541417Z"
    },
    "papermill": {
     "duration": 0.069993,
     "end_time": "2021-06-13T13:22:16.701197",
     "exception": false,
     "start_time": "2021-06-13T13:22:16.631204",
     "status": "completed"
    },
    "tags": []
   },
   "outputs": [],
   "source": [
    "mode=mode.to_frame()\n",
    "mode=mode.reset_index()\n",
    "mode=mode.rename(columns={\"index\":\"mode\",\"mode\":\"count\"})"
   ]
  },
  {
   "cell_type": "code",
   "execution_count": 34,
   "id": "affiliated-activity",
   "metadata": {
    "execution": {
     "iopub.execute_input": "2021-06-13T13:22:16.826992Z",
     "iopub.status.busy": "2021-06-13T13:22:16.826312Z",
     "iopub.status.idle": "2021-06-13T13:22:16.979312Z",
     "shell.execute_reply": "2021-06-13T13:22:16.979823Z",
     "shell.execute_reply.started": "2021-06-13T12:59:06.571986Z"
    },
    "papermill": {
     "duration": 0.21776,
     "end_time": "2021-06-13T13:22:16.979994",
     "exception": false,
     "start_time": "2021-06-13T13:22:16.762234",
     "status": "completed"
    },
    "tags": []
   },
   "outputs": [
    {
     "data": {
      "image/png": "[encoded data removed]",
      "text/plain": [
       "<Figure size 720x720 with 1 Axes>"
      ]
     },
     "metadata": {
      "needs_background": "light"
     },
     "output_type": "display_data"
    }
   ],
   "source": [
    "figure = plt.figure(figsize=(10,10))\n",
    "plots=sns.barplot(x=\"mode\",y=\"count\",data=mode)\n",
    "for bar in plots.patches:\n",
    "    plots.annotate(format(bar.get_height(), '.2f'), \n",
    "                   (bar.get_x() + bar.get_width() / 2, \n",
    "                    bar.get_height()), ha='center', va='center',\n",
    "                   size=15, xytext=(0, 8),\n",
    "                   textcoords='offset points')\n",
    "plt.xlabel(\"Mode\",size=15)\n",
    "plt.ylabel(\"Count\",size=15)\n",
    "plt.title(\"Count of mode\",size=20)\n",
    "plt.show()"
   ]
  },
  {
   "cell_type": "code",
   "execution_count": 35,
   "id": "twelve-introduction",
   "metadata": {
    "execution": {
     "iopub.execute_input": "2021-06-13T13:22:17.107099Z",
     "iopub.status.busy": "2021-06-13T13:22:17.106393Z",
     "iopub.status.idle": "2021-06-13T13:22:17.111796Z",
     "shell.execute_reply": "2021-06-13T13:22:17.111251Z",
     "shell.execute_reply.started": "2021-06-13T13:01:30.567495Z"
    },
    "papermill": {
     "duration": 0.069822,
     "end_time": "2021-06-13T13:22:17.111932",
     "exception": false,
     "start_time": "2021-06-13T13:22:17.042110",
     "status": "completed"
    },
    "tags": []
   },
   "outputs": [],
   "source": [
    "# Exporting mode to csv\n",
    "mode.to_csv(\"Count of mode.csv\",index=False)"
   ]
  },
  {
   "cell_type": "code",
   "execution_count": 36,
   "id": "dated-lecture",
   "metadata": {
    "execution": {
     "iopub.execute_input": "2021-06-13T13:22:17.239305Z",
     "iopub.status.busy": "2021-06-13T13:22:17.238351Z",
     "iopub.status.idle": "2021-06-13T13:22:17.244816Z",
     "shell.execute_reply": "2021-06-13T13:22:17.244300Z",
     "shell.execute_reply.started": "2021-06-13T13:00:23.297769Z"
    },
    "papermill": {
     "duration": 0.071037,
     "end_time": "2021-06-13T13:22:17.244960",
     "exception": false,
     "start_time": "2021-06-13T13:22:17.173923",
     "status": "completed"
    },
    "tags": []
   },
   "outputs": [
    {
     "data": {
      "text/plain": [
       "Index(['id', 'name', 'artists', 'danceability', 'energy', 'key', 'loudness',\n",
       "       'mode', 'speechiness', 'acousticness', 'instrumentalness', 'liveness',\n",
       "       'valence', 'tempo', 'duration_ms', 'time_signature'],\n",
       "      dtype='object')"
      ]
     },
     "execution_count": 36,
     "metadata": {},
     "output_type": "execute_result"
    }
   ],
   "source": [
    "df.columns"
   ]
  },
  {
   "cell_type": "markdown",
   "id": "planned-spokesman",
   "metadata": {
    "execution": {
     "iopub.execute_input": "2021-06-13T13:01:53.826897Z",
     "iopub.status.busy": "2021-06-13T13:01:53.826483Z",
     "iopub.status.idle": "2021-06-13T13:01:53.840629Z",
     "shell.execute_reply": "2021-06-13T13:01:53.839589Z",
     "shell.execute_reply.started": "2021-06-13T13:01:53.826862Z"
    },
    "papermill": {
     "duration": 0.061869,
     "end_time": "2021-06-13T13:22:17.369405",
     "exception": false,
     "start_time": "2021-06-13T13:22:17.307536",
     "status": "completed"
    },
    "tags": []
   },
   "source": [
    "## Liveness"
   ]
  },
  {
   "cell_type": "code",
   "execution_count": 37,
   "id": "functioning-thesis",
   "metadata": {
    "execution": {
     "iopub.execute_input": "2021-06-13T13:22:17.498620Z",
     "iopub.status.busy": "2021-06-13T13:22:17.497968Z",
     "iopub.status.idle": "2021-06-13T13:22:17.504700Z",
     "shell.execute_reply": "2021-06-13T13:22:17.504072Z",
     "shell.execute_reply.started": "2021-06-13T13:04:57.326994Z"
    },
    "papermill": {
     "duration": 0.071767,
     "end_time": "2021-06-13T13:22:17.504919",
     "exception": false,
     "start_time": "2021-06-13T13:22:17.433152",
     "status": "completed"
    },
    "tags": []
   },
   "outputs": [],
   "source": [
    "live=df.groupby([\"artists\"])[\"liveness\"].mean().sort_values(ascending=False)\n",
    "top10live = live.head(10)"
   ]
  },
  {
   "cell_type": "code",
   "execution_count": 38,
   "id": "cultural-failure",
   "metadata": {
    "execution": {
     "iopub.execute_input": "2021-06-13T13:22:17.638011Z",
     "iopub.status.busy": "2021-06-13T13:22:17.637013Z",
     "iopub.status.idle": "2021-06-13T13:22:17.639790Z",
     "shell.execute_reply": "2021-06-13T13:22:17.640286Z",
     "shell.execute_reply.started": "2021-06-13T13:05:57.371889Z"
    },
    "papermill": {
     "duration": 0.072757,
     "end_time": "2021-06-13T13:22:17.640454",
     "exception": false,
     "start_time": "2021-06-13T13:22:17.567697",
     "status": "completed"
    },
    "tags": []
   },
   "outputs": [],
   "source": [
    "# Converting it to dataframe\n",
    "top10live = top10live.to_frame()\n",
    "\n",
    "#reseting the dataframe's index\n",
    "top10live = top10live.reset_index()"
   ]
  },
  {
   "cell_type": "code",
   "execution_count": 39,
   "id": "naked-philadelphia",
   "metadata": {
    "execution": {
     "iopub.execute_input": "2021-06-13T13:22:17.777731Z",
     "iopub.status.busy": "2021-06-13T13:22:17.776873Z",
     "iopub.status.idle": "2021-06-13T13:22:17.780464Z",
     "shell.execute_reply": "2021-06-13T13:22:17.780920Z",
     "shell.execute_reply.started": "2021-06-13T13:10:20.867259Z"
    },
    "papermill": {
     "duration": 0.078435,
     "end_time": "2021-06-13T13:22:17.781113",
     "exception": false,
     "start_time": "2021-06-13T13:22:17.702678",
     "status": "completed"
    },
    "tags": []
   },
   "outputs": [
    {
     "name": "stderr",
     "output_type": "stream",
     "text": [
      "/opt/conda/lib/python3.7/site-packages/ipykernel_launcher.py:3: SettingWithCopyWarning: \n",
      "A value is trying to be set on a copy of a slice from a DataFrame\n",
      "\n",
      "See the caveats in the documentation: https://pandas.pydata.org/pandas-docs/stable/user_guide/indexing.html#returning-a-view-versus-a-copy\n",
      "  This is separate from the ipykernel package so we can avoid doing imports until\n"
     ]
    }
   ],
   "source": [
    "# Converting the values to percentage\n",
    "for i in range (0,len(top10live)):\n",
    "    top10live[\"liveness\"][i] = top10live[\"liveness\"][i]*100\n",
    "    "
   ]
  },
  {
   "cell_type": "code",
   "execution_count": 40,
   "id": "loving-going",
   "metadata": {
    "execution": {
     "iopub.execute_input": "2021-06-13T13:22:17.930834Z",
     "iopub.status.busy": "2021-06-13T13:22:17.929118Z",
     "iopub.status.idle": "2021-06-13T13:22:18.213460Z",
     "shell.execute_reply": "2021-06-13T13:22:18.213945Z",
     "shell.execute_reply.started": "2021-06-13T13:10:54.097610Z"
    },
    "papermill": {
     "duration": 0.368954,
     "end_time": "2021-06-13T13:22:18.214122",
     "exception": false,
     "start_time": "2021-06-13T13:22:17.845168",
     "status": "completed"
    },
    "tags": []
   },
   "outputs": [
    {
     "data": {
      "image/png": "[encoded data removed]",
      "text/plain": [
       "<Figure size 1152x576 with 1 Axes>"
      ]
     },
     "metadata": {
      "needs_background": "light"
     },
     "output_type": "display_data"
    }
   ],
   "source": [
    "figure = plt.figure(figsize=(16,8))\n",
    "plots=sns.barplot(x=\"artists\",y=\"liveness\",data=top10live)\n",
    "for bar in plots.patches:\n",
    "    plots.annotate(format(bar.get_height(), '.2f'), \n",
    "                   (bar.get_x() + bar.get_width() / 2, \n",
    "                    bar.get_height()), ha='center', va='center',\n",
    "                   size=15, xytext=(0, 8),\n",
    "                   textcoords='offset points')\n",
    "plt.xlabel(\"artists\",size=15)\n",
    "plt.ylabel(\"liveness\",size=15)\n",
    "plt.title(\"Artists with their respective live percentage\",size=20)\n",
    "plt.show()"
   ]
  },
  {
   "cell_type": "code",
   "execution_count": 41,
   "id": "opposed-bermuda",
   "metadata": {
    "execution": {
     "iopub.execute_input": "2021-06-13T13:22:18.347821Z",
     "iopub.status.busy": "2021-06-13T13:22:18.346991Z",
     "iopub.status.idle": "2021-06-13T13:22:18.350521Z",
     "shell.execute_reply": "2021-06-13T13:22:18.350014Z",
     "shell.execute_reply.started": "2021-06-13T13:12:02.857264Z"
    },
    "papermill": {
     "duration": 0.072777,
     "end_time": "2021-06-13T13:22:18.350711",
     "exception": false,
     "start_time": "2021-06-13T13:22:18.277934",
     "status": "completed"
    },
    "tags": []
   },
   "outputs": [],
   "source": [
    "# Exporting to csv format\n",
    "top10live.to_csv(\"Top 10 live.csv\",index=False)"
   ]
  },
  {
   "cell_type": "markdown",
   "id": "alone-sterling",
   "metadata": {
    "papermill": {
     "duration": 0.06338,
     "end_time": "2021-06-13T13:22:18.478846",
     "exception": false,
     "start_time": "2021-06-13T13:22:18.415466",
     "status": "completed"
    },
    "tags": []
   },
   "source": [
    "## Valence"
   ]
  },
  {
   "cell_type": "code",
   "execution_count": 42,
   "id": "finite-found",
   "metadata": {
    "execution": {
     "iopub.execute_input": "2021-06-13T13:22:18.613375Z",
     "iopub.status.busy": "2021-06-13T13:22:18.612704Z",
     "iopub.status.idle": "2021-06-13T13:22:18.614613Z",
     "shell.execute_reply": "2021-06-13T13:22:18.615104Z",
     "shell.execute_reply.started": "2021-06-13T13:15:44.477361Z"
    },
    "papermill": {
     "duration": 0.07262,
     "end_time": "2021-06-13T13:22:18.615270",
     "exception": false,
     "start_time": "2021-06-13T13:22:18.542650",
     "status": "completed"
    },
    "tags": []
   },
   "outputs": [],
   "source": [
    "val=df.groupby([\"artists\"])[\"valence\"].mean().sort_values(ascending=False)\n",
    "top10val = val.head(10)"
   ]
  },
  {
   "cell_type": "code",
   "execution_count": 43,
   "id": "muslim-spider",
   "metadata": {
    "execution": {
     "iopub.execute_input": "2021-06-13T13:22:18.745407Z",
     "iopub.status.busy": "2021-06-13T13:22:18.744773Z",
     "iopub.status.idle": "2021-06-13T13:22:18.749695Z",
     "shell.execute_reply": "2021-06-13T13:22:18.750183Z",
     "shell.execute_reply.started": "2021-06-13T13:16:51.988504Z"
    },
    "papermill": {
     "duration": 0.071552,
     "end_time": "2021-06-13T13:22:18.750348",
     "exception": false,
     "start_time": "2021-06-13T13:22:18.678796",
     "status": "completed"
    },
    "tags": []
   },
   "outputs": [],
   "source": [
    "# changing it to dataframe\n",
    "top10val=top10val.to_frame()\n",
    "\n",
    "# resetting their indexes\n",
    "\n",
    "top10val = top10val.reset_index()"
   ]
  },
  {
   "cell_type": "code",
   "execution_count": 44,
   "id": "coupled-impossible",
   "metadata": {
    "execution": {
     "iopub.execute_input": "2021-06-13T13:22:18.881495Z",
     "iopub.status.busy": "2021-06-13T13:22:18.880879Z",
     "iopub.status.idle": "2021-06-13T13:22:18.893135Z",
     "shell.execute_reply": "2021-06-13T13:22:18.892497Z",
     "shell.execute_reply.started": "2021-06-13T13:16:56.116540Z"
    },
    "papermill": {
     "duration": 0.078513,
     "end_time": "2021-06-13T13:22:18.893271",
     "exception": false,
     "start_time": "2021-06-13T13:22:18.814758",
     "status": "completed"
    },
    "tags": []
   },
   "outputs": [
    {
     "data": {
      "text/html": [
       "<div>\n",
       "<style scoped>\n",
       "    .dataframe tbody tr th:only-of-type {\n",
       "        vertical-align: middle;\n",
       "    }\n",
       "\n",
       "    .dataframe tbody tr th {\n",
       "        vertical-align: top;\n",
       "    }\n",
       "\n",
       "    .dataframe thead th {\n",
       "        text-align: right;\n",
       "    }\n",
       "</style>\n",
       "<table border=\"1\" class=\"dataframe\">\n",
       "  <thead>\n",
       "    <tr style=\"text-align: right;\">\n",
       "      <th></th>\n",
       "      <th>artists</th>\n",
       "      <th>valence</th>\n",
       "    </tr>\n",
       "  </thead>\n",
       "  <tbody>\n",
       "    <tr>\n",
       "      <th>0</th>\n",
       "      <td>Bruno Mars</td>\n",
       "      <td>0.926</td>\n",
       "    </tr>\n",
       "    <tr>\n",
       "      <th>1</th>\n",
       "      <td>Wolfine</td>\n",
       "      <td>0.844</td>\n",
       "    </tr>\n",
       "    <tr>\n",
       "      <th>2</th>\n",
       "      <td>Natti Natasha</td>\n",
       "      <td>0.839</td>\n",
       "    </tr>\n",
       "    <tr>\n",
       "      <th>3</th>\n",
       "      <td>Piso 21</td>\n",
       "      <td>0.839</td>\n",
       "    </tr>\n",
       "    <tr>\n",
       "      <th>4</th>\n",
       "      <td>Daddy Yankee</td>\n",
       "      <td>0.828</td>\n",
       "    </tr>\n",
       "    <tr>\n",
       "      <th>5</th>\n",
       "      <td>Becky G</td>\n",
       "      <td>0.820</td>\n",
       "    </tr>\n",
       "    <tr>\n",
       "      <th>6</th>\n",
       "      <td>Sofia Reyes</td>\n",
       "      <td>0.794</td>\n",
       "    </tr>\n",
       "    <tr>\n",
       "      <th>7</th>\n",
       "      <td>Reik</td>\n",
       "      <td>0.768</td>\n",
       "    </tr>\n",
       "    <tr>\n",
       "      <th>8</th>\n",
       "      <td>Lil Dicky</td>\n",
       "      <td>0.755</td>\n",
       "    </tr>\n",
       "    <tr>\n",
       "      <th>9</th>\n",
       "      <td>Portugal. The Man</td>\n",
       "      <td>0.754</td>\n",
       "    </tr>\n",
       "  </tbody>\n",
       "</table>\n",
       "</div>"
      ],
      "text/plain": [
       "             artists  valence\n",
       "0         Bruno Mars    0.926\n",
       "1            Wolfine    0.844\n",
       "2      Natti Natasha    0.839\n",
       "3            Piso 21    0.839\n",
       "4       Daddy Yankee    0.828\n",
       "5            Becky G    0.820\n",
       "6        Sofia Reyes    0.794\n",
       "7               Reik    0.768\n",
       "8          Lil Dicky    0.755\n",
       "9  Portugal. The Man    0.754"
      ]
     },
     "execution_count": 44,
     "metadata": {},
     "output_type": "execute_result"
    }
   ],
   "source": [
    "top10val"
   ]
  },
  {
   "cell_type": "code",
   "execution_count": 45,
   "id": "accompanied-property",
   "metadata": {
    "execution": {
     "iopub.execute_input": "2021-06-13T13:22:19.034064Z",
     "iopub.status.busy": "2021-06-13T13:22:19.033364Z",
     "iopub.status.idle": "2021-06-13T13:22:19.037227Z",
     "shell.execute_reply": "2021-06-13T13:22:19.036362Z",
     "shell.execute_reply.started": "2021-06-13T13:19:22.547265Z"
    },
    "papermill": {
     "duration": 0.079076,
     "end_time": "2021-06-13T13:22:19.037411",
     "exception": false,
     "start_time": "2021-06-13T13:22:18.958335",
     "status": "completed"
    },
    "tags": []
   },
   "outputs": [
    {
     "name": "stderr",
     "output_type": "stream",
     "text": [
      "/opt/conda/lib/python3.7/site-packages/ipykernel_launcher.py:2: SettingWithCopyWarning: \n",
      "A value is trying to be set on a copy of a slice from a DataFrame\n",
      "\n",
      "See the caveats in the documentation: https://pandas.pydata.org/pandas-docs/stable/user_guide/indexing.html#returning-a-view-versus-a-copy\n",
      "  \n"
     ]
    }
   ],
   "source": [
    "for i in range (0,len(top10val)):\n",
    "    top10val[\"valence\"][i] = top10val[\"valence\"][i]*100\n",
    "    "
   ]
  },
  {
   "cell_type": "code",
   "execution_count": 46,
   "id": "romantic-founder",
   "metadata": {
    "execution": {
     "iopub.execute_input": "2021-06-13T13:22:19.206000Z",
     "iopub.status.busy": "2021-06-13T13:22:19.177782Z",
     "iopub.status.idle": "2021-06-13T13:22:19.455917Z",
     "shell.execute_reply": "2021-06-13T13:22:19.455328Z",
     "shell.execute_reply.started": "2021-06-13T13:19:30.927197Z"
    },
    "papermill": {
     "duration": 0.352305,
     "end_time": "2021-06-13T13:22:19.456080",
     "exception": false,
     "start_time": "2021-06-13T13:22:19.103775",
     "status": "completed"
    },
    "tags": []
   },
   "outputs": [
    {
     "data": {
      "image/png": "[encoded data removed]",
      "text/plain": [
       "<Figure size 1080x576 with 1 Axes>"
      ]
     },
     "metadata": {
      "needs_background": "light"
     },
     "output_type": "display_data"
    }
   ],
   "source": [
    "figure = plt.figure(figsize=(15,8))\n",
    "plots=sns.barplot(x=\"artists\",y=\"valence\",data=top10val)\n",
    "for bar in plots.patches:\n",
    "    plots.annotate(format(bar.get_height(), '.2f'), \n",
    "                   (bar.get_x() + bar.get_width() / 2, \n",
    "                    bar.get_height()), ha='center', va='center',\n",
    "                   size=15, xytext=(0, 8),\n",
    "                   textcoords='offset points')\n",
    "plt.xlabel(\"Artists\",size=15)\n",
    "plt.ylabel(\"valence\",size=15)\n",
    "plt.title(\"Artist with high valence(Happy songs)%\",size=20)\n",
    "plt.show()"
   ]
  },
  {
   "cell_type": "code",
   "execution_count": 47,
   "id": "unable-combine",
   "metadata": {
    "execution": {
     "iopub.execute_input": "2021-06-13T13:22:19.593478Z",
     "iopub.status.busy": "2021-06-13T13:22:19.592359Z",
     "iopub.status.idle": "2021-06-13T13:22:19.596361Z",
     "shell.execute_reply": "2021-06-13T13:22:19.595770Z",
     "shell.execute_reply.started": "2021-06-13T13:20:23.346906Z"
    },
    "papermill": {
     "duration": 0.074428,
     "end_time": "2021-06-13T13:22:19.596504",
     "exception": false,
     "start_time": "2021-06-13T13:22:19.522076",
     "status": "completed"
    },
    "tags": []
   },
   "outputs": [],
   "source": [
    "# Exporting to csv format\n",
    "\n",
    "top10val.to_csv(\"Top 10 Valence.csv\",index=False)"
   ]
  },
  {
   "cell_type": "code",
   "execution_count": 48,
   "id": "differential-squad",
   "metadata": {
    "execution": {
     "iopub.execute_input": "2021-06-13T13:22:19.753869Z",
     "iopub.status.busy": "2021-06-13T13:22:19.753120Z",
     "iopub.status.idle": "2021-06-13T13:22:19.756758Z",
     "shell.execute_reply": "2021-06-13T13:22:19.756051Z",
     "shell.execute_reply.started": "2021-06-13T13:21:09.185718Z"
    },
    "papermill": {
     "duration": 0.094244,
     "end_time": "2021-06-13T13:22:19.756911",
     "exception": false,
     "start_time": "2021-06-13T13:22:19.662667",
     "status": "completed"
    },
    "tags": []
   },
   "outputs": [
    {
     "data": {
      "text/html": [
       "<div>\n",
       "<style scoped>\n",
       "    .dataframe tbody tr th:only-of-type {\n",
       "        vertical-align: middle;\n",
       "    }\n",
       "\n",
       "    .dataframe tbody tr th {\n",
       "        vertical-align: top;\n",
       "    }\n",
       "\n",
       "    .dataframe thead th {\n",
       "        text-align: right;\n",
       "    }\n",
       "</style>\n",
       "<table border=\"1\" class=\"dataframe\">\n",
       "  <thead>\n",
       "    <tr style=\"text-align: right;\">\n",
       "      <th></th>\n",
       "      <th>id</th>\n",
       "      <th>name</th>\n",
       "      <th>artists</th>\n",
       "      <th>danceability</th>\n",
       "      <th>energy</th>\n",
       "      <th>key</th>\n",
       "      <th>loudness</th>\n",
       "      <th>mode</th>\n",
       "      <th>speechiness</th>\n",
       "      <th>acousticness</th>\n",
       "      <th>instrumentalness</th>\n",
       "      <th>liveness</th>\n",
       "      <th>valence</th>\n",
       "      <th>tempo</th>\n",
       "      <th>duration_ms</th>\n",
       "      <th>time_signature</th>\n",
       "    </tr>\n",
       "  </thead>\n",
       "  <tbody>\n",
       "    <tr>\n",
       "      <th>0</th>\n",
       "      <td>6DCZcSspjsKoFjzjrWoCd</td>\n",
       "      <td>God's Plan</td>\n",
       "      <td>Drake</td>\n",
       "      <td>0.754</td>\n",
       "      <td>0.449</td>\n",
       "      <td>7.0</td>\n",
       "      <td>-9.211</td>\n",
       "      <td>1.0</td>\n",
       "      <td>0.1090</td>\n",
       "      <td>0.0332</td>\n",
       "      <td>0.000083</td>\n",
       "      <td>0.552</td>\n",
       "      <td>0.357</td>\n",
       "      <td>77.169</td>\n",
       "      <td>198973.0</td>\n",
       "      <td>4.0</td>\n",
       "    </tr>\n",
       "    <tr>\n",
       "      <th>1</th>\n",
       "      <td>3ee8Jmje8o58CHK66QrVC</td>\n",
       "      <td>SAD!</td>\n",
       "      <td>XXXTENTACION</td>\n",
       "      <td>0.740</td>\n",
       "      <td>0.613</td>\n",
       "      <td>8.0</td>\n",
       "      <td>-4.880</td>\n",
       "      <td>1.0</td>\n",
       "      <td>0.1450</td>\n",
       "      <td>0.2580</td>\n",
       "      <td>0.003720</td>\n",
       "      <td>0.123</td>\n",
       "      <td>0.473</td>\n",
       "      <td>75.023</td>\n",
       "      <td>166606.0</td>\n",
       "      <td>4.0</td>\n",
       "    </tr>\n",
       "    <tr>\n",
       "      <th>2</th>\n",
       "      <td>0e7ipj03S05BNilyu5bRz</td>\n",
       "      <td>rockstar (feat. 21 Savage)</td>\n",
       "      <td>Post Malone</td>\n",
       "      <td>0.587</td>\n",
       "      <td>0.535</td>\n",
       "      <td>5.0</td>\n",
       "      <td>-6.090</td>\n",
       "      <td>0.0</td>\n",
       "      <td>0.0898</td>\n",
       "      <td>0.1170</td>\n",
       "      <td>0.000066</td>\n",
       "      <td>0.131</td>\n",
       "      <td>0.140</td>\n",
       "      <td>159.847</td>\n",
       "      <td>218147.0</td>\n",
       "      <td>4.0</td>\n",
       "    </tr>\n",
       "    <tr>\n",
       "      <th>3</th>\n",
       "      <td>3swc6WTsr7rl9DqQKQA55</td>\n",
       "      <td>Psycho (feat. Ty Dolla $ign)</td>\n",
       "      <td>Post Malone</td>\n",
       "      <td>0.739</td>\n",
       "      <td>0.559</td>\n",
       "      <td>8.0</td>\n",
       "      <td>-8.011</td>\n",
       "      <td>1.0</td>\n",
       "      <td>0.1170</td>\n",
       "      <td>0.5800</td>\n",
       "      <td>0.000000</td>\n",
       "      <td>0.112</td>\n",
       "      <td>0.439</td>\n",
       "      <td>140.124</td>\n",
       "      <td>221440.0</td>\n",
       "      <td>4.0</td>\n",
       "    </tr>\n",
       "    <tr>\n",
       "      <th>4</th>\n",
       "      <td>2G7V7zsVDxg1yRsu7Ew9R</td>\n",
       "      <td>In My Feelings</td>\n",
       "      <td>Drake</td>\n",
       "      <td>0.835</td>\n",
       "      <td>0.626</td>\n",
       "      <td>1.0</td>\n",
       "      <td>-5.833</td>\n",
       "      <td>1.0</td>\n",
       "      <td>0.1250</td>\n",
       "      <td>0.0589</td>\n",
       "      <td>0.000060</td>\n",
       "      <td>0.396</td>\n",
       "      <td>0.350</td>\n",
       "      <td>91.030</td>\n",
       "      <td>217925.0</td>\n",
       "      <td>4.0</td>\n",
       "    </tr>\n",
       "  </tbody>\n",
       "</table>\n",
       "</div>"
      ],
      "text/plain": [
       "                      id                          name       artists  \\\n",
       "0  6DCZcSspjsKoFjzjrWoCd                    God's Plan         Drake   \n",
       "1  3ee8Jmje8o58CHK66QrVC                          SAD!  XXXTENTACION   \n",
       "2  0e7ipj03S05BNilyu5bRz    rockstar (feat. 21 Savage)   Post Malone   \n",
       "3  3swc6WTsr7rl9DqQKQA55  Psycho (feat. Ty Dolla $ign)   Post Malone   \n",
       "4  2G7V7zsVDxg1yRsu7Ew9R                In My Feelings         Drake   \n",
       "\n",
       "   danceability  energy  key  loudness  mode  speechiness  acousticness  \\\n",
       "0         0.754   0.449  7.0    -9.211   1.0       0.1090        0.0332   \n",
       "1         0.740   0.613  8.0    -4.880   1.0       0.1450        0.2580   \n",
       "2         0.587   0.535  5.0    -6.090   0.0       0.0898        0.1170   \n",
       "3         0.739   0.559  8.0    -8.011   1.0       0.1170        0.5800   \n",
       "4         0.835   0.626  1.0    -5.833   1.0       0.1250        0.0589   \n",
       "\n",
       "   instrumentalness  liveness  valence    tempo  duration_ms  time_signature  \n",
       "0          0.000083     0.552    0.357   77.169     198973.0             4.0  \n",
       "1          0.003720     0.123    0.473   75.023     166606.0             4.0  \n",
       "2          0.000066     0.131    0.140  159.847     218147.0             4.0  \n",
       "3          0.000000     0.112    0.439  140.124     221440.0             4.0  \n",
       "4          0.000060     0.396    0.350   91.030     217925.0             4.0  "
      ]
     },
     "execution_count": 48,
     "metadata": {},
     "output_type": "execute_result"
    }
   ],
   "source": [
    "df.head()"
   ]
  },
  {
   "cell_type": "code",
   "execution_count": null,
   "id": "suffering-explorer",
   "metadata": {
    "papermill": {
     "duration": 0.066238,
     "end_time": "2021-06-13T13:22:19.895744",
     "exception": false,
     "start_time": "2021-06-13T13:22:19.829506",
     "status": "completed"
    },
    "tags": []
   },
   "outputs": [],
   "source": []
  }
 ],
 "metadata": {
  "kernelspec": {
   "display_name": "Python 3",
   "language": "python",
   "name": "python3"
  },
  "language_info": {
   "codemirror_mode": {
    "name": "ipython",
    "version": 3
   },
   "file_extension": ".py",
   "mimetype": "text/x-python",
   "name": "python",
   "nbconvert_exporter": "python",
   "pygments_lexer": "ipython3",
   "version": "3.7.10"
  },
  "papermill": {
   "default_parameters": {},
   "duration": 20.958029,
   "end_time": "2021-06-13T13:22:21.411651",
   "environment_variables": {},
   "exception": null,
   "input_path": "__notebook__.ipynb",
   "output_path": "__notebook__.ipynb",
   "parameters": {},
   "start_time": "2021-06-13T13:22:00.453622",
   "version": "2.3.3"
  }
 },
 "nbformat": 4,
 "nbformat_minor": 5
}
